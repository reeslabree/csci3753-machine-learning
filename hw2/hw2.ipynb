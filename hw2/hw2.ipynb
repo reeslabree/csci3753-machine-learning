{
 "cells": [
  {
   "cell_type": "markdown",
   "metadata": {
    "deletable": false,
    "editable": false,
    "nbgrader": {
     "cell_type": "markdown",
     "checksum": "b20339a9b1c6ba650f9412fdd5996dec",
     "grade": false,
     "grade_id": "cell-5ae594183c2ba9fb",
     "locked": true,
     "schema_version": 3,
     "solution": false,
     "task": false
    }
   },
   "source": [
    "# Homework 2: Perceptron, Logistic Regression, Stocashtic Gradient Descent\n",
    "\n",
    "\n",
    "\n",
    "This assignment is due on Canvas by **11:59pm on Friday Feb 19**. \n",
    "Your solutions to theoretical questions should be done in Markdown/MathJax directly below the associated question.\n",
    "Your solutions to computational questions should include any specified Python code and results \n",
    "as well as written commentary on your conclusions.\n",
    "Remember that you are encouraged to discuss the problems with your instructors and classmates, \n",
    "but **you must write all code and solutions on your own**. For a refresher on the course **Collaboration Policy** click [here](https://github.com/akkikiki/CSCI-4622-Machine-Learning-sp21/blob/main/info/syllabus.md#collaboration-policy).\n",
    "\n",
    "**NOTES**: \n",
    "\n",
    "- Do **NOT** load or use any Python packages that are not available in Anaconda (Version: 2019.07) with Python 3.7. \n",
    "- Some problems with code may be autograded.  If we provide a function API **do not** change it.  If we do not provide a function API then you're free to structure your code however you like. \n",
    "- Submit only this Jupyter notebook to Moodle.  Do not compress it using tar, rar, zip, etc. \n",
    "- Extra credit questions will not make your homework total scores overflow i.e., not exceed 30% in the final grade. But you can use extra credit in one homework to cover another.\n",
    "\n",
    "**Acknowledgment** : Chris Ketelsen, Chenhao Tan\n"
   ]
  },
  {
   "cell_type": "markdown",
   "metadata": {
    "deletable": false,
    "editable": false,
    "nbgrader": {
     "cell_type": "markdown",
     "checksum": "14b00eba73658f7416196d099c69de22",
     "grade": false,
     "grade_id": "cell-b59de3e2244455bf",
     "locked": true,
     "schema_version": 3,
     "solution": false,
     "task": false
    }
   },
   "source": [
    "**Please put your name and cuidentity username.**"
   ]
  },
  {
   "cell_type": "markdown",
   "metadata": {
    "collapsed": true
   },
   "source": [
    "**Name**: Rees LaBree"
   ]
  },
  {
   "cell_type": "markdown",
   "metadata": {},
   "source": [
    "**Identity Key**: rela3138"
   ]
  },
  {
   "cell_type": "code",
   "execution_count": 1,
   "metadata": {
    "deletable": false,
    "editable": false,
    "nbgrader": {
     "cell_type": "code",
     "checksum": "1b661d22b2de3af882b4fc5a40210afe",
     "grade": false,
     "grade_id": "cell-831d67dea055c2cb",
     "locked": true,
     "schema_version": 3,
     "solution": false,
     "task": false
    }
   },
   "outputs": [],
   "source": [
    "import math\n",
    "import pickle\n",
    "import gzip\n",
    "import numpy as np\n",
    "import pandas\n",
    "import matplotlib.pylab as plt\n",
    "%matplotlib inline"
   ]
  },
  {
   "cell_type": "markdown",
   "metadata": {
    "deletable": false,
    "editable": false,
    "nbgrader": {
     "cell_type": "markdown",
     "checksum": "61f620452e69363a04701e024ee182a4",
     "grade": false,
     "grade_id": "cell-74dc2d431f34714c",
     "locked": true,
     "schema_version": 3,
     "solution": false,
     "task": false
    }
   },
   "source": [
    "## [40 points] Problem 1 - Perceptron Training\n",
    "\n",
    "Consider a binary classification problem on the following dataset:\n",
    "\n",
    "| x1   | x2         | x3      | y| \n",
    "|:------:|:------------:| :-----------:|---:|\n",
    "|0|0|0|-1|\n",
    "|0|0|1|1|\n",
    "|0|1|0|1|\n",
    "|1|0|0|1|\n",
    "|0|1|1|-1|\n",
    "|1|1|0|-1|\n",
    "|1|0|1|-1|\n",
    "|1|1|1|1|\n",
    "\n",
    "We are going to experiment with the Perceptron algorithm in this problem."
   ]
  },
  {
   "cell_type": "markdown",
   "metadata": {
    "deletable": false,
    "editable": false,
    "nbgrader": {
     "cell_type": "markdown",
     "checksum": "a8f7f0efec0fc2af24455801926a3139",
     "grade": false,
     "grade_id": "cell-8063e7270b6eedc9",
     "locked": true,
     "schema_version": 3,
     "solution": false,
     "task": false
    }
   },
   "source": [
    "### Part 1 [5 points]\n",
    "Complete the `perceptron_train` function and report the results."
   ]
  },
  {
   "cell_type": "code",
   "execution_count": 14,
   "metadata": {
    "deletable": false,
    "editable": false,
    "nbgrader": {
     "cell_type": "code",
     "checksum": "365046976b8740444573218b20517901",
     "grade": false,
     "grade_id": "cell-3e62020d026f50d7",
     "locked": true,
     "schema_version": 3,
     "solution": false,
     "task": false
    }
   },
   "outputs": [],
   "source": [
    "# Do not change - unless needed\n",
    "data = np.array([\n",
    "    [0, 0, 0, 1, 0, 1, 1, 1],\n",
    "    [0, 0, 1, 0, 1, 1, 0, 1],\n",
    "    [0, 1, 0, 0, 1, 0, 1, 1],\n",
    "    [-1, 1, 1, 1, -1, -1, -1, 1]\n",
    "])\n",
    "data = np.transpose(data)\n",
    "# Initialize the weights and bias (note that we use a non-standard initialization here).\n",
    "weights = np.array([0, 0.5, 0.5])\n",
    "bias = 1"
   ]
  },
  {
   "cell_type": "code",
   "execution_count": 15,
   "metadata": {
    "deletable": false,
    "nbgrader": {
     "cell_type": "code",
     "checksum": "ba398c225cc45fdae95576e41c1edc5f",
     "grade": false,
     "grade_id": "cell-583db73f125b72af",
     "locked": false,
     "schema_version": 3,
     "solution": true
    }
   },
   "outputs": [],
   "source": [
    "def perceptron_train(data, weights, bias):\n",
    "    \"\"\"\n",
    "    apply transformation and update weights and bias\n",
    "    :type X: array\n",
    "    :type y: int\n",
    "    :type weights: array\n",
    "    :type bias : int\n",
    "    :rtype: weights, bias, number of mistakes\n",
    "    \"\"\"\n",
    "    mistakes_count = 0\n",
    "    for row in data:\n",
    "        X = np.array(row[:3])\n",
    "        y = row[-1]\n",
    "        \n",
    "        a = np.dot(X, weights) + bias\n",
    "        if a * y <= 0:\n",
    "            weights = weights + X * y\n",
    "            bias = bias + y\n",
    "            mistakes_count += 1\n",
    "        \n",
    "    return weights, bias, mistakes_count"
   ]
  },
  {
   "cell_type": "markdown",
   "metadata": {
    "deletable": false,
    "editable": false,
    "nbgrader": {
     "cell_type": "markdown",
     "checksum": "76e07a38f846b798673bf2fe408c5901",
     "grade": false,
     "grade_id": "cell-1d2387cfaf34ed49",
     "locked": true,
     "schema_version": 3,
     "solution": false,
     "task": false
    }
   },
   "source": [
    "#### Part 1 A [2.5 points]\n",
    "Report the weights, bias, and number of mistakes after the first epoch."
   ]
  },
  {
   "cell_type": "code",
   "execution_count": 16,
   "metadata": {
    "deletable": false,
    "editable": false,
    "nbgrader": {
     "cell_type": "code",
     "checksum": "fa772438f15187642c3bf0303aef679f",
     "grade": false,
     "grade_id": "cell-254f1f918dd02cfe",
     "locked": true,
     "schema_version": 3,
     "solution": false,
     "task": false
    }
   },
   "outputs": [
    {
     "name": "stdout",
     "output_type": "stream",
     "text": [
      "weights: [ 1.  -0.5  0.5], bias: 0, mistakes: 5\n"
     ]
    }
   ],
   "source": [
    "### Do not change or remove this code\n",
    "weights, bias, number_of_mistakes = perceptron_train(data, weights, bias)\n",
    "print(f'weights: {weights}, bias: {bias}, mistakes: {number_of_mistakes}')"
   ]
  },
  {
   "cell_type": "code",
   "execution_count": 17,
   "metadata": {
    "deletable": false,
    "editable": false,
    "nbgrader": {
     "cell_type": "code",
     "checksum": "a4443206bb8030ffda6798560f3358ec",
     "grade": true,
     "grade_id": "cell-71a254a22738d8dd",
     "locked": true,
     "points": 2.5,
     "schema_version": 3,
     "solution": false
    }
   },
   "outputs": [],
   "source": [
    "# for grading - ignore"
   ]
  },
  {
   "cell_type": "markdown",
   "metadata": {
    "deletable": false,
    "editable": false,
    "nbgrader": {
     "cell_type": "markdown",
     "checksum": "91d04822f00006225e965d9df80837ca",
     "grade": false,
     "grade_id": "cell-ec32d4a96188a96d",
     "locked": true,
     "schema_version": 3,
     "solution": false,
     "task": false
    }
   },
   "source": [
    "#### Part 1 B [2.5 points]:\n",
    "Run the perceptron training for 50 more epochs with the updated weights and report the weights, bias and number of mistakes."
   ]
  },
  {
   "cell_type": "code",
   "execution_count": 18,
   "metadata": {
    "deletable": false,
    "nbgrader": {
     "cell_type": "code",
     "checksum": "ac6b3485d7a8339a44998a1b549c3dba",
     "grade": false,
     "grade_id": "cell-9162930c9497743a",
     "locked": false,
     "schema_version": 3,
     "solution": true
    }
   },
   "outputs": [
    {
     "name": "stdout",
     "output_type": "stream",
     "text": [
      "weights: [1.  0.5 0.5], bias: -1, mistakes: 4\n"
     ]
    }
   ],
   "source": [
    "epochs = 50\n",
    "\n",
    "for i in range(epochs):\n",
    "    weights, bias, number_of_mistakes = perceptron_train(data, weights, bias)\n",
    "\n",
    "print(f'weights: {weights}, bias: {bias}, mistakes: {number_of_mistakes}')"
   ]
  },
  {
   "cell_type": "code",
   "execution_count": 19,
   "metadata": {
    "deletable": false,
    "editable": false,
    "nbgrader": {
     "cell_type": "code",
     "checksum": "9fc7e537a12e005eaf453323c97b8d5b",
     "grade": true,
     "grade_id": "cell-959e42c284018b8d",
     "locked": true,
     "points": 2.5,
     "schema_version": 3,
     "solution": false
    }
   },
   "outputs": [],
   "source": [
    "# for grading - ignore"
   ]
  },
  {
   "cell_type": "markdown",
   "metadata": {
    "deletable": false,
    "editable": false,
    "nbgrader": {
     "cell_type": "markdown",
     "checksum": "e475025d108f79ae21fa50b640b4eb17",
     "grade": false,
     "grade_id": "cell-fdb42b2a6b9cefea",
     "locked": true,
     "schema_version": 3,
     "solution": false
    }
   },
   "source": [
    "### Part 2 [5 points] \n",
    "Is it possible that your Perceptron classifier would \n",
    "ever perfectly classify all training examples after more passes of the Perceptron Algorithm?\n",
    "Clearly explain your reasoning."
   ]
  },
  {
   "cell_type": "markdown",
   "metadata": {
    "deletable": false,
    "nbgrader": {
     "cell_type": "markdown",
     "checksum": "aab341a9986cebe8f0e3a28dd5841d0e",
     "grade": true,
     "grade_id": "cell-9e4148ad96554da5",
     "locked": false,
     "points": 5,
     "schema_version": 3,
     "solution": true
    }
   },
   "source": [
    "In this specific problem it will never be able to perfectly classify this data because the data in this example isn't perfectly linearly seperable"
   ]
  },
  {
   "cell_type": "markdown",
   "metadata": {
    "deletable": false,
    "editable": false,
    "nbgrader": {
     "cell_type": "markdown",
     "checksum": "688bd1e9d28214b6633962030202fe85",
     "grade": false,
     "grade_id": "cell-91fc1b93bd24f56d",
     "locked": true,
     "schema_version": 3,
     "solution": false
    }
   },
   "source": [
    "### Part 3 [5 points] \n",
    "Does the Perceptron classifier necessarily make the same number of mistakes after the first epoch if the data is presented in any other randomized order? \n",
    "    Explain your reasoning."
   ]
  },
  {
   "cell_type": "markdown",
   "metadata": {
    "deletable": false,
    "nbgrader": {
     "cell_type": "markdown",
     "checksum": "008162ff8ebf6900421370575c9e7014",
     "grade": true,
     "grade_id": "cell-47e30b7cd8370b85",
     "locked": false,
     "points": 5,
     "schema_version": 3,
     "solution": true
    }
   },
   "source": [
    "Since early data has a larger influence than later data, if you present the outlier data later rather than earlier, the perceptron will possibly make less mistakes."
   ]
  },
  {
   "cell_type": "markdown",
   "metadata": {
    "deletable": false,
    "editable": false,
    "nbgrader": {
     "cell_type": "markdown",
     "checksum": "24d12824d7ac5315d4203bf70d89feed",
     "grade": false,
     "grade_id": "cell-571944605a5a58ab",
     "locked": true,
     "schema_version": 3,
     "solution": false,
     "task": false
    }
   },
   "source": [
    "###  Part 4 [15 Points]:  Perceptron Classifier on random generated data\n",
    "\n",
    "Update the Perceptron Learning Algorithm to explore the convergence on linearly separable simulated data sets with particular properties. Take a look at the `Perceptron` class below."
   ]
  },
  {
   "cell_type": "code",
   "execution_count": 20,
   "metadata": {
    "deletable": false,
    "nbgrader": {
     "cell_type": "code",
     "checksum": "0ca135bbd064fc82b2a3d5b5c950c25f",
     "grade": false,
     "grade_id": "cell-7770ef2854032d8b",
     "locked": false,
     "schema_version": 3,
     "solution": true
    }
   },
   "outputs": [],
   "source": [
    "class Perceptron:\n",
    "    \"\"\"\n",
    "    Class to fit a perceptron classifier to simulated data\n",
    "    \"\"\"\n",
    "\n",
    "    def __init__(self, n=100, margin=0.1, X=None, y=None, random_state=1241):\n",
    "        \"\"\"\n",
    "        Initializes Perceptron class.  Generates training data and sets parameters. \n",
    "\n",
    "        :param n: the number of training examples\n",
    "        :param margin: the margin between decision boundary and data\n",
    "        :param random_state: seed for random number generator \n",
    "        :param X: (numpy array) Input training features.  Only used for unit testing. \n",
    "        :param y: (numpy array) Input training labels.  Only used for unit testing. \n",
    "        \"\"\"\n",
    "        # initalize random seed\n",
    "        np.random.seed(random_state)\n",
    "\n",
    "        # initialize parameters\n",
    "        self.n, self.M = n, margin\n",
    "\n",
    "        # generate random simulated data\n",
    "        self.X_train, self.y_train = self.gen_data()\n",
    "        \n",
    "        # assert statements to verify the shape of self.X_train, self.y_train\n",
    "        assert self.X_train.shape == (100,2)\n",
    "        assert self.y_train.shape == (100,)\n",
    "\n",
    "        # only used for unit tests\n",
    "        if X is not None and y is not None:\n",
    "            self.X_train, self.y_train, self.n = X, y, X.shape[0]\n",
    "\n",
    "        # initialize weights and bias\n",
    "        self.w = np.array([1.0, 0.0])\n",
    "        self.b = 0\n",
    "\n",
    "        # initialize total mistake counter\n",
    "        self.num_mistakes = 0\n",
    "\n",
    "    def train(self, max_epochs=100):\n",
    "        \"\"\"\n",
    "        Runs the Perceptron Algorithm until all training data is correctly classified. \n",
    "\n",
    "        :param max_epochs: Maximum number of epochs to perform before stopping.\n",
    "        \"\"\"     \n",
    "        \n",
    "        for i in range(max_epochs):\n",
    "            epoch_mistakes_counter = 0\n",
    "            rand_order = np.random.choice(range(self.n), replace=False, size=self.n)\n",
    "            for j in rand_order:\n",
    "                X = self.X_train[j]\n",
    "                y = self.y_train[j]\n",
    "\n",
    "                a = np.dot(X, self.w) + self.b\n",
    "                if a * y <= 0:\n",
    "                    self.w = self.w + X * y\n",
    "                    self.b = self.b + y\n",
    "                    self.num_mistakes += 1\n",
    "                    epoch_mistakes_counter += 1\n",
    "                    \n",
    "                if epoch_mistakes_counter == 0:\n",
    "                    break\n",
    "\n",
    "    def plot_model(self, decision_boundary=False):\n",
    "        \"\"\"\n",
    "        Plots the simulated data.  Plots the learned decision boundary (#TODO) \n",
    "        \"\"\"\n",
    "        fig, ax = plt.subplots(nrows=1, ncols=1, figsize=(8, 8))\n",
    "        colors = [\"steelblue\" if yi == -\n",
    "                  1 else \"#a76c6e\" for yi in self.y_train]\n",
    "        ax.scatter(self.X_train[:, 0], self.X_train[:, 1], color=colors, s=75)\n",
    "        if decision_boundary:\n",
    "            x = np.linspace(-1, 1, 100)\n",
    "            y = ((-self.w[0]*x - self.b)/self.w[1])\n",
    "            ax.plot(x,y,'-r')\n",
    "        ax.grid(alpha=0.25)\n",
    "        ax.set_xlabel(r\"$x_1$\", fontsize=16)\n",
    "        ax.set_ylabel(r\"$x_2$\", fontsize=16)\n",
    "\n",
    "    def gen_data(self):\n",
    "        \"\"\"\n",
    "        Generate random linearly separable data with given margin. \n",
    "        Note: You should not need to change this function \n",
    "        \"\"\"\n",
    "        flip = np.random.choice([-1, 1])\n",
    "        pos_x1 = np.random.uniform(-1 / np.sqrt(2), 1 / np.sqrt(2), int(self.n / 2))\n",
    "        pos_x2 = np.random.uniform(\n",
    "            self.M + flip * 0.1, 1 / np.sqrt(2), int(self.n / 2))\n",
    "        pos_x2[-1] = self.M + flip * 0.1\n",
    "        neg_x1 = np.random.uniform(-1 / np.sqrt(2), 1 / np.sqrt(2), int(self.n / 2))\n",
    "        neg_x2 = np.random.uniform(-1 / np.sqrt(2), -\n",
    "                                   self.M + flip * 0.1, int(self.n / 2))\n",
    "        neg_x2[-1] = -self.M + flip * 0.1\n",
    "        X = np.concatenate((np.column_stack((pos_x1, pos_x2)),\n",
    "                            np.column_stack((neg_x1, neg_x2))))\n",
    "        X = np.dot(X, np.array(\n",
    "            [[np.cos(np.pi / 6), np.sin(np.pi / 6)], [-np.sin(np.pi / 6), np.cos(np.pi / 6)]]))\n",
    "        y = np.array([+1] * int(self.n / 2) + [-1] * int(self.n / 2))\n",
    "        rand_order = np.random.choice(\n",
    "            range(self.n), replace=False, size=self.n)\n",
    "        return X[rand_order], y[rand_order]"
   ]
  },
  {
   "cell_type": "markdown",
   "metadata": {
    "deletable": false,
    "editable": false,
    "nbgrader": {
     "cell_type": "markdown",
     "checksum": "625ae70cb8c85d1b6a19cf7b4e976b64",
     "grade": false,
     "grade_id": "cell-a686c48925c47ad0",
     "locked": true,
     "schema_version": 3,
     "solution": false,
     "task": false
    }
   },
   "source": [
    "#### Part 4 A [5 points]\n",
    "The `Perceptron` class above has the capability of generating its own training data with certain properties. Execute the cell below to generate $n=100$ simulated training examples and plot them. Experiment with the `margin` parameter (good values to try are between $0.01$ and $0.4$). Explain what the `margin` parameter is doing."
   ]
  },
  {
   "cell_type": "code",
   "execution_count": 21,
   "metadata": {},
   "outputs": [
    {
     "data": {
      "image/png": "[encoded data removed]",
      "text/plain": [
       "<Figure size 576x576 with 1 Axes>"
      ]
     },
     "metadata": {
      "needs_background": "light"
     },
     "output_type": "display_data"
    }
   ],
   "source": [
    "margin = 0.4 # subject to experiment\n",
    "perc = Perceptron(n=100, margin=margin)\n",
    "perc.plot_model(decision_boundary=False)"
   ]
  },
  {
   "cell_type": "markdown",
   "metadata": {
    "deletable": false,
    "nbgrader": {
     "cell_type": "markdown",
     "checksum": "50441211d139b2a4f9da7cd7ab870d31",
     "grade": true,
     "grade_id": "cell-788872a24aff264a",
     "locked": false,
     "points": 5,
     "schema_version": 3,
     "solution": true
    },
    "scrolled": false
   },
   "source": [
    "Margin is changing the distance in each data set from the decision boundary. As such increasing the margin increases how linearly seperable our data is."
   ]
  },
  {
   "cell_type": "markdown",
   "metadata": {
    "deletable": false,
    "editable": false,
    "nbgrader": {
     "cell_type": "markdown",
     "checksum": "2f38520aa6b264caf661dd8bfc856c06",
     "grade": false,
     "grade_id": "cell-6dfc5cb5c8b88c55",
     "locked": true,
     "schema_version": 3,
     "solution": false,
     "task": false
    }
   },
   "source": [
    "#### Part 4 B [5 points] \n",
    "Modify the `train` method in the `Perceptron` class to perform the Perceptron Learning Algorithm and learn weights ${\\bf w}$ and bias $b$ that perfectly classify the linearly separable training data. Your implementation should:\n",
    "\n",
    "- Visit all training examples in a random shuffled order over each training epoch.\n",
    "- Terminate when you finish an epoch without making a single classification error or when you hit the maximum number of epochs.\n",
    "- Use the `self.num_mistakes` counter to count the total number of classification errors over the entire training process.\n",
    "\n",
    "\n",
    "Notes:\n",
    "\n",
    "You should not use Scikit-Learn's Perceptron object in your solution.\n",
    "It's a good idea to implement a stopping criterion based on the `max_epochs` parameter as the first step. Later we'll look at training sets that will terminate on their own, but implementing a stopping mechanism will save you some pain in the development process.\n",
    "Do not change the initial guess for the weights and bias. These values were chosen to match the example done in lecture for the unit tests."
   ]
  },
  {
   "cell_type": "code",
   "execution_count": 22,
   "metadata": {
    "deletable": false,
    "editable": false,
    "nbgrader": {
     "cell_type": "code",
     "checksum": "6333832632b3cc873c66bb10c9a42266",
     "grade": true,
     "grade_id": "cell-ad1677859c4ce262",
     "locked": true,
     "points": 5,
     "schema_version": 3,
     "solution": false
    }
   },
   "outputs": [
    {
     "name": "stderr",
     "output_type": "stream",
     "text": [
      "TestNegMistake (tests.tests.TestPerceptron) ... ok\n",
      "TestPosMistake (tests.tests.TestPerceptron) ... ok\n",
      "\n",
      "----------------------------------------------------------------------\n",
      "Ran 2 tests in 0.021s\n",
      "\n",
      "OK\n"
     ]
    }
   ],
   "source": [
    "from tests import tests\n",
    "tests.run_test_suite('prob 1.4B', Perceptron)"
   ]
  },
  {
   "cell_type": "markdown",
   "metadata": {
    "deletable": false,
    "editable": false,
    "nbgrader": {
     "cell_type": "markdown",
     "checksum": "64eee99b14cbacdb362032c5619a38bc",
     "grade": false,
     "grade_id": "cell-36d78a28960b4f81",
     "locked": true,
     "schema_version": 3,
     "solution": false,
     "task": false
    }
   },
   "source": [
    "#### Part 4 C [5 points]\n",
    "Modify the `plot_model` method so that it plots the learned decision boundary with the training data. Demonstrate that your method is working by training a perceptron with a margin of your choice and displaying the resulting plot. What is the equation of the learned decision boundary? (Use symbols not numbers.)\n"
   ]
  },
  {
   "cell_type": "markdown",
   "metadata": {
    "deletable": false,
    "nbgrader": {
     "cell_type": "markdown",
     "checksum": "bfd198608dd122cc1be160a9766b8d25",
     "grade": true,
     "grade_id": "cell-807e6237e11d03ed",
     "locked": false,
     "points": 5,
     "schema_version": 3,
     "solution": true
    }
   },
   "source": [
    "YOUR ANSWER HERE"
   ]
  },
  {
   "cell_type": "code",
   "execution_count": 23,
   "metadata": {},
   "outputs": [
    {
     "data": {
      "image/png": "[encoded data removed]",
      "text/plain": [
       "<Figure size 576x576 with 1 Axes>"
      ]
     },
     "metadata": {
      "needs_background": "light"
     },
     "output_type": "display_data"
    }
   ],
   "source": [
    "perc = Perceptron(n=100, margin=0.2)\n",
    "perc.train()\n",
    "perc.plot_model(decision_boundary=True)"
   ]
  },
  {
   "cell_type": "markdown",
   "metadata": {
    "deletable": false,
    "editable": false,
    "nbgrader": {
     "cell_type": "markdown",
     "checksum": "cbb4df34429b774fc8988dfc65b30c6c",
     "grade": false,
     "grade_id": "cell-637d0b72a2dec574",
     "locked": true,
     "schema_version": 3,
     "solution": false,
     "task": false
    }
   },
   "source": [
    "### Part 5 [10 points]\n",
    "\n",
    "Verify the theorem which states that, if you train a perceptron on linearly separable training data with margin $\\gamma > 0$ and each training point satisfies $\\|{\\bf x}\\|_2 \\leq 1$ then the Perceptron algorithm will complete after making at most $1/\\gamma^2$ classification mistakes.\n",
    "\n",
    "Do the following to verify the above statement: \n",
    "- Train perceptrons with $n = 100$ and different margins ($\\gamma=0.3, 0.1, 0.01, 0.001,$ and $0.0001$).\n",
    "- Produce a log-log plot with $1/\\gamma$ on the horizontal axis and the total numbers of mistakes on the vertical axis. \n",
    "- On the same set of axes, plot the theoretical upper bound on the number of training mistakes.\n",
    "\n",
    "Usually we run multiple simulations and get an averaged total number of mistakes for each margin, but it is fine if you only do once."
   ]
  },
  {
   "cell_type": "code",
   "execution_count": 24,
   "metadata": {
    "deletable": false,
    "nbgrader": {
     "cell_type": "code",
     "checksum": "a51d12ddace6cca4e1138f86b7ac6114",
     "grade": true,
     "grade_id": "cell-5eb12c673017afa0",
     "locked": false,
     "points": 10,
     "schema_version": 3,
     "solution": true
    }
   },
   "outputs": [
    {
     "data": {
      "text/plain": [
       "[<matplotlib.lines.Line2D at 0x253c4383fd0>]"
      ]
     },
     "execution_count": 24,
     "metadata": {},
     "output_type": "execute_result"
    },
    {
     "data": {
      "image/png": "[encoded data removed]",
      "text/plain": [
       "<Figure size 432x288 with 1 Axes>"
      ]
     },
     "metadata": {
      "needs_background": "light"
     },
     "output_type": "display_data"
    }
   ],
   "source": [
    "gamma = [0.3, 0.1, 0.01, 0.001, 0.0001]\n",
    "n = 100\n",
    "\n",
    "x_axis = []\n",
    "mistakes = []\n",
    "upper_bound = []\n",
    "\n",
    "\n",
    "for g in gamma:\n",
    "    perc = Perceptron(n, margin=g)\n",
    "    perc.train()\n",
    "    mistakes.append(perc.num_mistakes)\n",
    "    upper_bound.append(1/g**2)\n",
    "    x_axis.append(1/g)\n",
    "    \n",
    "plt.loglog(x_axis, mistakes)\n",
    "plt.loglog(x_axis, upper_bound)"
   ]
  },
  {
   "cell_type": "markdown",
   "metadata": {
    "deletable": false,
    "editable": false,
    "nbgrader": {
     "cell_type": "markdown",
     "checksum": "4dced7aa38b797ebe718fb360950e806",
     "grade": false,
     "grade_id": "cell-9ff966dc7e96e595",
     "locked": true,
     "schema_version": 3,
     "solution": false,
     "task": false
    }
   },
   "source": [
    "#### Extra Credit [5 points]\n",
    "\n",
    "* Explain the limitations of the vanilla perceptron implemented above.\n",
    "* Provide pseudo code/steps to implement Voting Perceptron or Average Perceptron (see the textbook) and discuss the pros and cons (Compare space complexity)"
   ]
  },
  {
   "cell_type": "markdown",
   "metadata": {
    "deletable": false,
    "nbgrader": {
     "cell_type": "markdown",
     "checksum": "f845d3da91814bdd23a2bf0699bf8fba",
     "grade": true,
     "grade_id": "cell-945d3bde845764bf",
     "locked": false,
     "points": 0,
     "schema_version": 3,
     "solution": true
    }
   },
   "source": [
    "YOUR ANSWER HERE"
   ]
  },
  {
   "cell_type": "markdown",
   "metadata": {
    "deletable": false,
    "editable": false,
    "nbgrader": {
     "cell_type": "markdown",
     "checksum": "822b6ee48d02916efe2d2645b0cfbcac",
     "grade": false,
     "grade_id": "cell-96a1ce6a1ab8dabc",
     "locked": true,
     "schema_version": 3,
     "solution": false,
     "task": false
    }
   },
   "source": [
    "## [60 points] Problem 2 : Logistic Regression + SGD"
   ]
  },
  {
   "cell_type": "markdown",
   "metadata": {
    "deletable": false,
    "editable": false,
    "nbgrader": {
     "cell_type": "markdown",
     "checksum": "06b1aa13eba1a651cdf9c04ecebc1cf3",
     "grade": false,
     "grade_id": "cell-051a2362799a8530",
     "locked": true,
     "schema_version": 3,
     "solution": false,
     "task": false
    }
   },
   "source": [
    "In this Problem, you'll implement a Logistic Regression classifier to predict whether person on the Titanic will survive or not.\n",
    "\n",
    "\n",
    "Dataset has following attributes:\n",
    "\n",
    "|Variable|Definition|Key|\n",
    "|:----:|:----:|:---|\n",
    "|survival|\tSurvival|\t0 = No, 1 = Yes|\n",
    "|pclass|\tTicket class|\t1 = 1st, 2 = 2nd, 3 = 3rd|\n",
    "|Age |Age in years\t||\n",
    "|fare\t|Passenger fare|\t|\n",
    "|sibsp\t|# of siblings / spouses aboard the Titanic| |\n",
    "|parch\t|# of parents / children aboard the Titanic\t||\n",
    "|sex\t| Sex|\tone hot encoded male, female|\n",
    "|embarked | Port of Embarkation | one hot encoded C = Cherbourg, Q = Queenstown, S = Southampton|\n",
    "\n"
   ]
  },
  {
   "cell_type": "markdown",
   "metadata": {
    "deletable": false,
    "editable": false,
    "nbgrader": {
     "cell_type": "markdown",
     "checksum": "c996abcb9c467c6f95987594713922e5",
     "grade": false,
     "grade_id": "cell-81b4a35e847dde6f",
     "locked": true,
     "schema_version": 3,
     "solution": false,
     "task": false
    }
   },
   "source": [
    "Following is a class to load the titanic dataset."
   ]
  },
  {
   "cell_type": "code",
   "execution_count": 25,
   "metadata": {},
   "outputs": [],
   "source": [
    "# Make sure you have installed pandas and numpy before you run.\n",
    "import random\n",
    "import pandas as pd\n",
    "import numpy as np\n",
    "import matplotlib.pyplot as plt\n",
    "from math import exp, log\n",
    "from collections import defaultdict\n",
    "\n",
    "class Dataset:\n",
    "    \"\"\"\n",
    "    Class to load dataset containing titanic survival features\n",
    "    \"\"\"\n",
    "\n",
    "    def __init__(self, location, random_state=1241):\n",
    "        # You shouldn't have to modify this class, but you can if you'd like\n",
    "        # We use this class in the \"train\" function, \n",
    "        # inside the \"train\" function you can see the shapes of the train/test numpy arrays created here\n",
    "        \n",
    "        # Load the dataset\n",
    "        np.random.seed(random_state)\n",
    "        f = gzip.open(location, 'rb')\n",
    "        self.train_x, self.train_y, self.test_x, self.test_y = pickle.load(f)\n",
    "        # appending biases\n",
    "        self.train_x = np.concatenate((np.ones((self.train_x.shape[0], 1)), self.train_x), axis=1)\n",
    "        self.test_x = np.concatenate((np.ones((self.test_x.shape[0], 1)), self.test_x), axis=1)\n",
    "        f.close()\n",
    "        \n",
    "    @staticmethod\n",
    "    def shuffle(X, y):\n",
    "        \"\"\" Shuffle training data \"\"\"\n",
    "        shuffled_indices = np.random.permutation(len(y))\n",
    "        return X[shuffled_indices], y[shuffled_indices]"
   ]
  },
  {
   "cell_type": "markdown",
   "metadata": {
    "deletable": false,
    "editable": false,
    "nbgrader": {
     "cell_type": "markdown",
     "checksum": "330edbe78f9b7e49b7a6db6ebef70a93",
     "grade": false,
     "grade_id": "cell-29b47ae8fec3862a",
     "locked": true,
     "schema_version": 3,
     "solution": false,
     "task": false
    }
   },
   "source": [
    "### Part 1 [5 points]: Implementing sigmoid\n",
    "\n",
    "#### Part 1 A [4 points] \n",
    "First, implement the `sigmoid` function to return the output by applying the sigmoid function $\\sigma(z)$ to the input parameter, where the sigmoid function $\\sigma(z)$ is defined as:\n",
    "$$\n",
    "\\sigma(z) = \\frac{1}{1+e^{-z}}\n",
    "$$"
   ]
  },
  {
   "cell_type": "code",
   "execution_count": 101,
   "metadata": {
    "deletable": false,
    "nbgrader": {
     "cell_type": "code",
     "checksum": "513ed252f9bf919d7c5606e1eeaf9f7f",
     "grade": false,
     "grade_id": "cell-389deffcd0e8b595",
     "locked": false,
     "schema_version": 3,
     "solution": true
    }
   },
   "outputs": [],
   "source": [
    "def sigmoid(score, threshold=20.0):\n",
    "    \"\"\"\n",
    "    Sigmoid function with a threshold\n",
    "    :param score: A real valued number to convert into a number between 0 and 1\n",
    "    :param threshold : Prevent overflow of exp by capping activation at 20.\n",
    "    return sigmoid function result.\n",
    "    \"\"\"\n",
    "    # TODO: Finish this function to return the output of applying the sigmoid\n",
    "    # function to the input score (Please do not use external libraries)\n",
    "    \n",
    "    if score > threshold:\n",
    "        z_score = threshold\n",
    "    elif abs(score) > threshold:\n",
    "        z_score = -1*threshold\n",
    "    else:\n",
    "        z_score = score\n",
    "    \n",
    "    #print(1 / (1+np.exp(-1*z_score)))\n",
    "    return (1 / (1+np.exp(-1*z_score)))"
   ]
  },
  {
   "cell_type": "code",
   "execution_count": 102,
   "metadata": {
    "code_folding": [],
    "deletable": false,
    "editable": false,
    "nbgrader": {
     "cell_type": "code",
     "checksum": "3df8d7c20327dcc989c9f634eb8ecafc",
     "grade": true,
     "grade_id": "cell-73fb14b862081aa9",
     "locked": true,
     "points": 4,
     "schema_version": 3,
     "solution": false
    }
   },
   "outputs": [],
   "source": [
    "# verify sigmoid implemention w/ scipy;\n",
    "# note: you should NOT use scipy for your implementation!\n",
    "from scipy.stats import logistic\n",
    "assert sigmoid(1) == logistic.cdf(1)\n",
    "assert sigmoid(5) == logistic.cdf(5)\n",
    "assert sigmoid(100, threshold=20) == logistic.cdf(20)\n",
    "assert sigmoid(-1) == logistic.cdf(-1)\n",
    "assert sigmoid(-5) == logistic.cdf(-5)\n",
    "assert sigmoid(-100, threshold=20) == logistic.cdf(-20)"
   ]
  },
  {
   "cell_type": "markdown",
   "metadata": {
    "deletable": false,
    "editable": false,
    "nbgrader": {
     "cell_type": "markdown",
     "checksum": "0363e75f9e78551cc8495fa701709c95",
     "grade": false,
     "grade_id": "cell-cf2ae3f924808a05",
     "locked": true,
     "schema_version": 3,
     "solution": false,
     "task": false
    }
   },
   "source": [
    "#### Part 1 B [1 point]\n",
    "\n",
    "Next, implement the derivative of the `sigmoid` function, `sigmoid_grad`, i.e. $\\frac{\\partial\\sigma(x)}{\\partial x}$.\n",
    "\n",
    "Hint: your implementation of `sigmoid_grad` should be able to use  your `sigmoid` function to compute the derivative!"
   ]
  },
  {
   "cell_type": "code",
   "execution_count": 28,
   "metadata": {
    "deletable": false,
    "nbgrader": {
     "cell_type": "code",
     "checksum": "f463d5a41efa533b8878eae4c4e45ba0",
     "grade": false,
     "grade_id": "cell-71a4ae76610d957e",
     "locked": false,
     "schema_version": 3,
     "solution": true,
     "task": false
    }
   },
   "outputs": [],
   "source": [
    "def sigmoid_grad(y, threshold=20.0):\n",
    "    \"\"\"\n",
    "    Derivative/gradient of the sigmoid function.\n",
    "    :param y: A real valued input for which to compute the derivative.\n",
    "    :param threshold : Prevent overflow of exp by capping activation at 20.\n",
    "    return sigmoid derivative function result.\n",
    "    \"\"\"\n",
    "    # TODO: Finish this function to return the output of applying the sigmoid\n",
    "    # function to the input score (Please do not use external libraries)\n",
    "    \n",
    "    if y > threshold:\n",
    "        z_score = threshold\n",
    "    elif abs(y) > threshold:\n",
    "        z_score = -1*threshold\n",
    "    else:\n",
    "        z_score = y\n",
    "        \n",
    "    return (np.exp(z_score)/((np.exp(z_score)+1)**2))"
   ]
  },
  {
   "cell_type": "code",
   "execution_count": 29,
   "metadata": {
    "deletable": false,
    "editable": false,
    "nbgrader": {
     "cell_type": "code",
     "checksum": "3f5dc02db6428084de5c0be23408bd3b",
     "grade": true,
     "grade_id": "cell-cac94bfa1729f2b9",
     "locked": true,
     "points": 1,
     "schema_version": 3,
     "solution": false,
     "task": false
    }
   },
   "outputs": [],
   "source": [
    "# verify sigmoid_grad using numerical differentiation, i.e: f(x+h)-f(x-h) / 2h\n",
    "epsilon = 1.0E-8\n",
    "assert np.isclose(sigmoid_grad(1.0), (sigmoid(1.0 + epsilon) - sigmoid(1.0 - epsilon)) / (2.0*epsilon))\n",
    "assert np.isclose(sigmoid_grad(0.1), (sigmoid(0.1 + epsilon) - sigmoid(0.1 - epsilon)) / (2.0*epsilon))"
   ]
  },
  {
   "cell_type": "markdown",
   "metadata": {
    "deletable": false,
    "editable": false,
    "nbgrader": {
     "cell_type": "markdown",
     "checksum": "40175d340cb5e4c3bc6d87c4ead497b8",
     "grade": false,
     "grade_id": "cell-8cff871369e65e2d",
     "locked": true,
     "schema_version": 3,
     "solution": false,
     "task": false
    }
   },
   "source": [
    "### Part 2 [35 points]\n",
    "\n",
    "#### Part 2 A [15 points]\n",
    "\n",
    "The negative log likelihood objective is defined as:\n",
    "$$\n",
    "\\textrm{NLL}(\\boldsymbol{\\beta}) = -\\displaystyle\\sum_{i=1}^n \\left[y_i \\log \\sigma(\\boldsymbol{\\beta}^T{\\bf x}^{(i)}) + (1-y_i)\\log(1 - \\sigma(\\boldsymbol{\\beta}^T{\\bf x}^{(i)}))\\right] \n",
    "$$\n",
    "\n",
    "First, write down the derivative of the negative log likelihood objective function, with respect to $\\boldsymbol{\\beta}$. Since we are working with SGD, derive it for  $n=1$."
   ]
  },
  {
   "cell_type": "markdown",
   "metadata": {
    "deletable": false,
    "nbgrader": {
     "cell_type": "markdown",
     "checksum": "13710555e242e51a990a84623f24e685",
     "grade": true,
     "grade_id": "cell-18bc846ce0e4d6b3",
     "locked": false,
     "points": 1,
     "schema_version": 3,
     "solution": true,
     "task": false
    }
   },
   "source": [
    "$$\\frac{dNLL{(\\beta)}}{d\\beta} = \\sum_{i=1}^M -(y_i-\\sigma)x_{ij}$$"
   ]
  },
  {
   "cell_type": "markdown",
   "metadata": {
    "deletable": false,
    "editable": false,
    "nbgrader": {
     "cell_type": "markdown",
     "checksum": "3333819f9a33c14f73c4dd51200e03ad",
     "grade": false,
     "grade_id": "cell-747488c656351f6e",
     "locked": true,
     "schema_version": 3,
     "solution": false,
     "task": false
    }
   },
   "source": [
    "Next, using the `sigmoid` function implemented earlier, finish the `sgd_update` function so that it performs stochastic gradient descent on the single training example and updates the weight vector correspondingly without regularization."
   ]
  },
  {
   "cell_type": "code",
   "execution_count": 170,
   "metadata": {
    "deletable": false,
    "nbgrader": {
     "cell_type": "code",
     "checksum": "602cc6df18ae878b26a9981a1edd4466",
     "grade": false,
     "grade_id": "cell-26bd636741b8b10c",
     "locked": false,
     "schema_version": 3,
     "solution": true,
     "task": false
    }
   },
   "outputs": [],
   "source": [
    "import math\n",
    "class LogReg:\n",
    "    def __init__(self, num_features, eta):\n",
    "        \"\"\"\n",
    "        Create a logistic regression classifier\n",
    "        :param num_features: The number of features (including bias)\n",
    "        :param eta: learning rate\n",
    "        \"\"\"\n",
    "        self.w = np.zeros(num_features)\n",
    "        self.eta = eta\n",
    "\n",
    "    def progress(self, examples_x, examples_y):\n",
    "        \"\"\"\n",
    "        Given a set of examples, compute the probability and accuracy\n",
    "        :param examples: The dataset to score\n",
    "        :return: A tuple of (log probability, accuracy)\n",
    "        \"\"\"\n",
    "\n",
    "        logprob = 0.0\n",
    "        num_right = 0\n",
    "        for x_i, y in zip(examples_x, examples_y):\n",
    "            p = sigmoid(self.w.dot(x_i))\n",
    "            if y == 1:\n",
    "                logprob += math.log(p)\n",
    "            else:\n",
    "                logprob += math.log(1.0 - p)\n",
    "\n",
    "            # Get accuracy\n",
    "            if abs(y - p) <= 0.5:\n",
    "                num_right += 1\n",
    "\n",
    "        return logprob, float(num_right) / float(len(examples_y))\n",
    "\n",
    "    def sgd_update(self, x_i, y, lam = 0.0):\n",
    "        \"\"\"\n",
    "        Compute a stochastic gradient update to improve the log likelihood.\n",
    "        :param x_i: The features of the example to take the gradient with respect to\n",
    "        :param y: The target output of the example to take the gradient with respect to\n",
    "        :param lam : regularization term\n",
    "        :return: Return the new value of the regression coefficients\n",
    "        \"\"\"\n",
    "        sigma = sigmoid(np.dot(self.w, x_i))\n",
    "        regular = lam*np.sum(self.w[1:])\n",
    "        \n",
    "        b_prime = self.w[0] + self.eta*(y - sigma)*x_i[0]\n",
    "        self.w[0] = b_prime\n",
    "            \n",
    "        for j, b_j in enumerate(self.w[1:]):\n",
    "            b_prime = b_j + self.eta*(y - sigma)*x_i[j+1] - self.eta*regular\n",
    "            self.w[j+1] = b_prime\n",
    "        \n",
    "        return self.w\n",
    "        "
   ]
  },
  {
   "cell_type": "code",
   "execution_count": 171,
   "metadata": {
    "deletable": false,
    "editable": false,
    "nbgrader": {
     "cell_type": "code",
     "checksum": "5e65a1f5fe8453a2faa2ec2ae20d6542",
     "grade": true,
     "grade_id": "cell-028c202a2089443e",
     "locked": true,
     "points": 14,
     "schema_version": 3,
     "solution": false,
     "task": false
    }
   },
   "outputs": [
    {
     "name": "stderr",
     "output_type": "stream",
     "text": [
      "testPosUnregUpdate (tests.tests.TestLogReg) ... ok\n",
      "testNegUnregUpdate (tests.tests.TestLogReg) ... ok\n",
      "\n",
      "----------------------------------------------------------------------\n",
      "Ran 2 tests in 0.001s\n",
      "\n",
      "OK\n"
     ]
    }
   ],
   "source": [
    "from tests import tests\n",
    "tests.run_test_suite('prob 2A', LogReg)"
   ]
  },
  {
   "cell_type": "markdown",
   "metadata": {
    "deletable": false,
    "editable": false,
    "nbgrader": {
     "cell_type": "markdown",
     "checksum": "037e5291f28d928d19acfbf44cce91b6",
     "grade": false,
     "grade_id": "cell-736f116c1e26304b",
     "locked": true,
     "schema_version": 3,
     "solution": false,
     "task": false
    }
   },
   "source": [
    "#### Part 2 B [15 points]\n",
    "Complete the code below to loop over the training data and perform stochastic gradient descent for a pre-defined number of epochs. You do not need to use the parameters lam and decay for this part.\n",
    "\n",
    "Note: remember to shuffle your training data using `Dataset.shuffle` at the beginning of each epoch."
   ]
  },
  {
   "cell_type": "code",
   "execution_count": 183,
   "metadata": {
    "code_folding": [],
    "deletable": false,
    "nbgrader": {
     "cell_type": "code",
     "checksum": "d569188718f6a39a59adcb22299049fd",
     "grade": false,
     "grade_id": "cell-a90025845b0cca0f",
     "locked": false,
     "schema_version": 3,
     "solution": true,
     "task": false
    }
   },
   "outputs": [],
   "source": [
    "def train(epochs, eta, store_epoch, lam=0, decay=0):\n",
    "    \"\"\"\n",
    "    Train a LogReg object for a set number of epochs with a given eta.\n",
    "    \n",
    "    Return three lists\n",
    "    Two lists keep track of training and test accuracy after every store_epoch epochs\n",
    "    \n",
    "    The third list keeps track of learning rate after every store_epoch epochs. All values in this list \n",
    "    will be the same if decay = 0 (Only required for Part 2F)\n",
    "    \n",
    "    With store_epoch = 100, you would store accuracies after epochs = 100, 200....\n",
    "    \n",
    "    :param epochs: total number of training epochs\n",
    "    :param eta: learning rate\n",
    "    :param store_epoch: store training and test accuracies every print_epoch epochs\n",
    "    :param lam: weight given to regularization term. \n",
    "    :param decay: Used to update learning rate during training (Part 3). \n",
    "                  Equals 0 when learning rate is constant throughout training (Part 2). \n",
    "    \"\"\"\n",
    "    \n",
    "    dataset_handler = Dataset('./data/titanic.pklz')\n",
    "    lr = LogReg(dataset_handler.train_x.shape[1], eta)\n",
    "    \n",
    "    # assert statements to verify the shape of dataset_handler.train_x and dataset_handler.test_x\n",
    "    assert dataset_handler.train_x.shape == (796,11)\n",
    "    assert dataset_handler.test_x.shape == (200,11)\n",
    "    \n",
    "    train_accuracy_array = []\n",
    "    test_accuracy_array = []\n",
    "    learning_rates = []\n",
    "    \n",
    "    for epoch in range(epochs):\n",
    "        # TODO: Finish the code to loop over the training data and perform a stochastic\n",
    "        # gradient descent update on each training example.\n",
    "\n",
    "        # NOTE: It may be helpful to call upon the 'progress' method in the LogReg class\n",
    "        # to make sure the algorithm is truly learning properly on both training and test data\n",
    "        \n",
    "        # shuffle data\n",
    "        dataset_handler.train_x, dataset_handler.train_y = dataset_handler.shuffle(dataset_handler.train_x, dataset_handler.train_y)\n",
    "        \n",
    "        # update\n",
    "        lr.eta /= (1+epoch*decay)\n",
    "        \n",
    "        for x in range(len(dataset_handler.train_x)):\n",
    "            lr.sgd_update(dataset_handler.train_x[x], dataset_handler.train_y[x])\n",
    "        \n",
    "        \n",
    "        if (epoch+1) % store_epoch == 0:\n",
    "            #store accuracies\n",
    "            train_prog, train_acc = lr.progress(dataset_handler.train_x, dataset_handler.train_y)\n",
    "            test_prog, test_acc = lr.progress(dataset_handler.test_x, dataset_handler.test_y)\n",
    "            learning_rates.append(lr.eta)\n",
    "            train_accuracy_array.append(train_acc)\n",
    "            test_accuracy_array.append(test_acc)\n",
    "        \n",
    "    # YOUR CODE HERE\n",
    "    # raise notImplementedError()\n",
    "    \n",
    "    \n",
    "    return train_accuracy_array, test_accuracy_array, learning_rates"
   ]
  },
  {
   "cell_type": "code",
   "execution_count": 128,
   "metadata": {
    "deletable": false,
    "editable": false,
    "nbgrader": {
     "cell_type": "code",
     "checksum": "e52d383321fd404605b20d66fb64b39e",
     "grade": true,
     "grade_id": "cell-c8ab6db3236a4ff2",
     "locked": true,
     "points": 15,
     "schema_version": 3,
     "solution": false,
     "task": false
    }
   },
   "outputs": [
    {
     "name": "stdout",
     "output_type": "stream",
     "text": [
      "train accuracy after 100 epochs: 0.5175879396984925\n",
      "test accuracy after 100 epochs: 0.505\n",
      "train accuracy after 200 epochs: 0.7562814070351759\n",
      "test accuracy after 200 epochs: 0.73\n",
      "train accuracy after 300 epochs: 0.7550251256281407\n",
      "test accuracy after 300 epochs: 0.72\n",
      "train accuracy after 400 epochs: 0.7035175879396985\n",
      "test accuracy after 400 epochs: 0.71\n",
      "train accuracy after 500 epochs: 0.7600502512562815\n",
      "test accuracy after 500 epochs: 0.73\n"
     ]
    }
   ],
   "source": [
    "eta  = 1e-3\n",
    "epochs = 500\n",
    "store_epoch = 100\n",
    "\n",
    "train_acc, test_acc, _ = train(epochs, eta, store_epoch)\n",
    "\n",
    "for i in range(len(train_acc)):\n",
    "    print(\"train accuracy after {} epochs: {}\".format((i+1)*store_epoch, train_acc[i]))\n",
    "    print(\"test accuracy after {} epochs: {}\".format((i+1)*store_epoch, test_acc[i]))\n",
    "    "
   ]
  },
  {
   "cell_type": "markdown",
   "metadata": {
    "deletable": false,
    "editable": false,
    "nbgrader": {
     "cell_type": "markdown",
     "checksum": "1835fad48f97ca1d66c9a7b849a3cb07",
     "grade": false,
     "grade_id": "cell-c7150ec75f715a87",
     "locked": true,
     "schema_version": 3,
     "solution": false,
     "task": false
    }
   },
   "source": [
    "#### Part 2 C [5 points]\n",
    "What is the role of the learning rate? What are the pros and cons of high/low learning rates? Do you see any trade-off? First, plot accuracies of different $\\eta$s together vs. number of epochs for both training and testing. Then briefly elaborate on these questions."
   ]
  },
  {
   "cell_type": "code",
   "execution_count": 129,
   "metadata": {
    "deletable": false,
    "nbgrader": {
     "cell_type": "code",
     "checksum": "386c67d8fdacd668efb63cf67cccf0be",
     "grade": true,
     "grade_id": "cell-09a16c6562efd6e5",
     "locked": false,
     "points": 3,
     "schema_version": 3,
     "solution": true,
     "task": false
    }
   },
   "outputs": [],
   "source": [
    "dataset_handler = Dataset('./data/titanic.pklz')\n",
    "train_results = {}\n",
    "test_results = {}\n",
    "\n",
    "epochs = 1500\n",
    "store_epoch = 50\n",
    "for eta in [1e-3, 1e-4, 1e-5, 1e-6]:\n",
    "    # TODO: \n",
    "    # Finish the code to loop over different values of learning rates (Use the train() function above)\n",
    "    \n",
    "    # You need to store accuracy arrays obtained in the dictionaries provided \n",
    "    # above (train_results and test_results)\n",
    "    \n",
    "    # Effectively, you will be creating a mapping between eta -> train/test_accuracy_array \n",
    "    # Therefore, running train_results[eta] should return the train_accuracy_array for that value\n",
    "    # of eta and likewise for test_results[eta].\n",
    "    \n",
    "    x, y, z = train(epochs, eta, store_epoch, lam=0, decay=0)\n",
    "    \n",
    "    train_results[eta] = x\n",
    "    test_results[eta] = y"
   ]
  },
  {
   "cell_type": "markdown",
   "metadata": {
    "deletable": false,
    "editable": false,
    "nbgrader": {
     "cell_type": "markdown",
     "checksum": "19e321915541406dc1e5e2b8b6ffd90c",
     "grade": false,
     "grade_id": "cell-cdceadb514539e82",
     "locked": true,
     "schema_version": 3,
     "solution": false,
     "task": false
    }
   },
   "source": [
    "Plot training results below."
   ]
  },
  {
   "cell_type": "code",
   "execution_count": 130,
   "metadata": {},
   "outputs": [
    {
     "data": {
      "image/png": "[encoded data removed]",
      "text/plain": [
       "<Figure size 864x432 with 1 Axes>"
      ]
     },
     "metadata": {
      "needs_background": "light"
     },
     "output_type": "display_data"
    }
   ],
   "source": [
    "fig, ax = plt.subplots(nrows=1, ncols=1, figsize=(12,6))\n",
    "epochs_array = [i for i in range(store_epoch, epochs, store_epoch)]\n",
    "epochs_array.append(epochs)\n",
    "ax.plot(epochs_array, train_results[1e-3], color=\"steelblue\", label=str(1e-3))\n",
    "ax.plot(epochs_array, train_results[1e-4], color=\"lightblue\", label=str(1e-4))\n",
    "ax.plot(epochs_array, train_results[1e-5], color=\"grey\", label=str(1e-5))\n",
    "ax.plot(epochs_array, train_results[1e-6], color=\"black\", label=str(1e-6))\n",
    "ax.legend(loc=\"lower right\", fontsize=16)\n",
    "ax.set_xlabel(\"epochs\", fontsize=16)\n",
    "ax.set_ylabel(\"train accuracy\", fontsize=16)\n",
    "plt.show()"
   ]
  },
  {
   "cell_type": "markdown",
   "metadata": {
    "deletable": false,
    "editable": false,
    "nbgrader": {
     "cell_type": "markdown",
     "checksum": "3d69bdf93baa5b77689c4c724361c7e4",
     "grade": false,
     "grade_id": "cell-08d14ca96a171d0c",
     "locked": true,
     "schema_version": 3,
     "solution": false,
     "task": false
    }
   },
   "source": [
    "Plot testing results below."
   ]
  },
  {
   "cell_type": "code",
   "execution_count": 131,
   "metadata": {},
   "outputs": [
    {
     "data": {
      "image/png": "[encoded data removed]",
      "text/plain": [
       "<Figure size 864x432 with 1 Axes>"
      ]
     },
     "metadata": {
      "needs_background": "light"
     },
     "output_type": "display_data"
    }
   ],
   "source": [
    "fig, ax = plt.subplots(nrows=1, ncols=1, figsize=(12,6))\n",
    "epochs_array = [i for i in range(store_epoch,epochs,store_epoch)]\n",
    "epochs_array.append(epochs)\n",
    "ax.plot(epochs_array, test_results[1e-3], color=\"steelblue\", label=str(1e-3))\n",
    "ax.plot(epochs_array, test_results[1e-4], color=\"lightblue\", label=str(1e-4))\n",
    "ax.plot(epochs_array, test_results[1e-5], color=\"grey\", label=str(1e-5))\n",
    "ax.plot(epochs_array, test_results[1e-6], color=\"black\", label=str(1e-6))\n",
    "ax.legend(loc=\"lower right\", fontsize=16)\n",
    "ax.set_xlabel(\"epochs\", fontsize=16)\n",
    "ax.set_ylabel(\"test accuracy\", fontsize=16)\n",
    "plt.show()"
   ]
  },
  {
   "cell_type": "markdown",
   "metadata": {
    "collapsed": true,
    "deletable": false,
    "nbgrader": {
     "cell_type": "markdown",
     "checksum": "d9ab704dc9e247cab6fe16b04bdb1c73",
     "grade": true,
     "grade_id": "cell-dd0ea201d734cc98",
     "locked": false,
     "points": 2,
     "schema_version": 3,
     "solution": true
    }
   },
   "source": [
    "Extremely high learning rates result in reaching convergence quickly, but then it bounces around on and off convergence frequently. Low learning rates never reach high accuracy convergence, but don't bounce off as frequently. The optimal eta is somewhere in the middle where it quickly reaches convergence on high accuracy but doesn't bounce off, in this case around the .0001 and 1e-5"
   ]
  },
  {
   "cell_type": "markdown",
   "metadata": {
    "collapsed": true,
    "deletable": false,
    "editable": false,
    "nbgrader": {
     "cell_type": "markdown",
     "checksum": "59a9a21127f64d588b91cfdada782e3f",
     "grade": false,
     "grade_id": "cell-edbacfc3a57559ab",
     "locked": true,
     "schema_version": 3,
     "solution": false,
     "task": false
    }
   },
   "source": [
    "#### Part 2 D [10 points]\n",
    "\n",
    "Adding $l_2$ regularization to the feature parameters for NLL loss gives:\n",
    "\n",
    "$$\n",
    "\\textrm{NLL}_{l_2}(\\boldsymbol{\\beta}) = -\\displaystyle\\sum_{i=1}^n \\left[y_i \\log \\sigma(\\boldsymbol{\\beta}^T{\\bf x}^{(i)}) + (1-y_i)\\log(1 - \\sigma(\\boldsymbol{\\beta}^T{\\bf x}^{(i)}))\\right] + \\lambda\\displaystyle\\sum_{k=1}^{p} \\beta_{k}^2\n",
    "$$\n",
    "\n",
    "where $p$ is the number of features, and $\\beta_0$ is the bias term. Notice that $\\beta_0$ is not included in the regularization term.\n",
    "\n",
    "Write down the derivative of the regularized negative log likelihood loss function $\\textrm{NLL}_{l_2}$ with respect to $\\boldsymbol{\\beta}$. Since we are working with SGD, derive it for $n=1$."
   ]
  },
  {
   "cell_type": "markdown",
   "metadata": {
    "deletable": false,
    "nbgrader": {
     "cell_type": "markdown",
     "checksum": "8de7f0f39e6af563561352399c29cb40",
     "grade": true,
     "grade_id": "cell-a25a04527ff025ff",
     "locked": false,
     "points": 1,
     "schema_version": 3,
     "solution": true,
     "task": false
    }
   },
   "source": [
    "$$\\frac{dNLL{\\beta}}{d\\beta} = \\sum_{i=1}^M -(y_i-\\sigma)x_{ij}+2\\lambda\\sum_{k=1}^p\\beta_k$$"
   ]
  },
  {
   "cell_type": "markdown",
   "metadata": {
    "deletable": false,
    "editable": false,
    "nbgrader": {
     "cell_type": "markdown",
     "checksum": "91255fcddea6e4116092f3b764264982",
     "grade": false,
     "grade_id": "cell-58a1174637893818",
     "locked": true,
     "schema_version": 3,
     "solution": false,
     "task": false
    }
   },
   "source": [
    "Update your implementation of the `sgd_update` method so that it performs regularized SGD updates of the model parameters to minimize the regularized NLL loss function.\n",
    "\n",
    "Remember, do **not** regularize the bias parameter $\\beta_0$.\n",
    "\n",
    "Provide train and test accuracy after above change with `lam=1e-5`."
   ]
  },
  {
   "cell_type": "code",
   "execution_count": 172,
   "metadata": {
    "deletable": false,
    "editable": false,
    "nbgrader": {
     "cell_type": "code",
     "checksum": "ca0f630ec835ecbd8cbf7365b6cf9205",
     "grade": true,
     "grade_id": "cell-3879c5176d481064",
     "locked": true,
     "points": 9,
     "schema_version": 3,
     "solution": false
    }
   },
   "outputs": [
    {
     "name": "stderr",
     "output_type": "stream",
     "text": [
      "testNegRegUpdate (tests.tests.TestLogReg) ... ok\n",
      "testPosRegUpdate (tests.tests.TestLogReg) ... ok\n",
      "\n",
      "----------------------------------------------------------------------\n",
      "Ran 2 tests in 0.001s\n",
      "\n",
      "OK\n"
     ]
    }
   ],
   "source": [
    "from tests import tests\n",
    "tests.run_test_suite('prob 2E', LogReg)"
   ]
  },
  {
   "cell_type": "markdown",
   "metadata": {
    "deletable": false,
    "editable": false,
    "nbgrader": {
     "cell_type": "markdown",
     "checksum": "3822f44a2dcc1d5ada7adf4525c48586",
     "grade": false,
     "grade_id": "cell-8598434febfab063",
     "locked": true,
     "schema_version": 3,
     "solution": false,
     "task": false
    }
   },
   "source": [
    "#### Part 2 E [5 points]\n",
    "Update your implementation of train() to incorporate a regularization term. The change should typically be on only one line in your code.\n",
    "\n",
    "Plot accuracies of different $\\lambda$s together vs. epochs for both training and testing)."
   ]
  },
  {
   "cell_type": "code",
   "execution_count": 181,
   "metadata": {
    "deletable": false,
    "nbgrader": {
     "cell_type": "code",
     "checksum": "79d4fd92662a9a5154b3aefc10e2318e",
     "grade": true,
     "grade_id": "cell-a450215e16c0f1a5",
     "locked": false,
     "points": 3,
     "schema_version": 3,
     "solution": true,
     "task": false
    }
   },
   "outputs": [],
   "source": [
    "dataset_handler = Dataset('./data/titanic.pklz')\n",
    "train_results = {}\n",
    "test_results = {}\n",
    "epochs = 1500\n",
    "eta = 1e-5\n",
    "store_epoch = 50\n",
    "for lam in [0, 0.01, 0.1, 0.05]:\n",
    "    \n",
    "    # TODO: \n",
    "    # Finish the code to loop over different values of lambda (Use the train() function above)\n",
    "    \n",
    "    # You need to store accuracy arrays obtained in the dictionaries provided \n",
    "    # above (train_results and test_results)\n",
    "    \n",
    "    # Effectively, you will be creating a mapping between lambda -> train/test_accuracy_array \n",
    "    # Therefore, running train_results[lam] should return the train_accuracy_array for that value\n",
    "    # of lam and likewise for test_results[lam].\n",
    "    \n",
    "    # YOUR CODE HERE\n",
    "    train_results[lam], test_results[lam], z = train(epochs, eta, store_epoch, lam)\n",
    "    "
   ]
  },
  {
   "cell_type": "markdown",
   "metadata": {
    "deletable": false,
    "editable": false,
    "nbgrader": {
     "cell_type": "markdown",
     "checksum": "117526c11d85393af4d2de0c81c3b33e",
     "grade": false,
     "grade_id": "cell-48bd45286d3e1d41",
     "locked": true,
     "schema_version": 3,
     "solution": false,
     "task": false
    }
   },
   "source": [
    "Plot training results below."
   ]
  },
  {
   "cell_type": "code",
   "execution_count": 182,
   "metadata": {},
   "outputs": [
    {
     "data": {
      "image/png": "[encoded data removed]",
      "text/plain": [
       "<Figure size 864x432 with 1 Axes>"
      ]
     },
     "metadata": {
      "needs_background": "light"
     },
     "output_type": "display_data"
    }
   ],
   "source": [
    "fig, ax = plt.subplots(nrows=1, ncols=1, figsize=(12,6))\n",
    "epochs_array = [i for i in range(store_epoch,epochs,store_epoch)]\n",
    "epochs_array.append(epochs)\n",
    "ax.plot(epochs_array, train_results[0], color=\"steelblue\", label=str(0))\n",
    "ax.plot(epochs_array, train_results[1e-1], color=\"black\", label=str(1e-1))\n",
    "ax.plot(epochs_array, train_results[1e-2], color=\"grey\", label=str(1e-2))\n",
    "ax.plot(epochs_array, train_results[5e-2], color=\"green\", label=str(5e-2))\n",
    "ax.legend(loc=\"lower right\", fontsize=16)\n",
    "ax.set_xlabel(\"epochs\", fontsize=16)\n",
    "ax.set_ylabel(\"train accuracy\", fontsize=16)\n",
    "plt.show()"
   ]
  },
  {
   "cell_type": "markdown",
   "metadata": {
    "deletable": false,
    "editable": false,
    "nbgrader": {
     "cell_type": "markdown",
     "checksum": "e518dd444497901ecdfcd4e4907a6f25",
     "grade": false,
     "grade_id": "cell-dbc673e5af14643b",
     "locked": true,
     "schema_version": 3,
     "solution": false,
     "task": false
    }
   },
   "source": [
    "Plot testing results below."
   ]
  },
  {
   "cell_type": "code",
   "execution_count": 175,
   "metadata": {},
   "outputs": [
    {
     "data": {
      "image/png": "[encoded data removed]",
      "text/plain": [
       "<Figure size 864x432 with 1 Axes>"
      ]
     },
     "metadata": {
      "needs_background": "light"
     },
     "output_type": "display_data"
    }
   ],
   "source": [
    "fig, ax = plt.subplots(nrows=1, ncols=1, figsize=(12,6))\n",
    "epochs_array = [i for i in range(store_epoch,epochs,store_epoch)]\n",
    "epochs_array.append(epochs)\n",
    "ax.plot(epochs_array, test_results[0], color=\"steelblue\", label=str(0))\n",
    "ax.plot(epochs_array, test_results[1e-1], color=\"black\", label=str(1e-1))\n",
    "ax.plot(epochs_array, test_results[1e-2], color=\"grey\", label=str(1e-2))\n",
    "ax.plot(epochs_array, test_results[5e-2], color=\"green\", label=str(5e-2))\n",
    "ax.legend(loc=\"lower right\", fontsize=16)\n",
    "ax.set_xlabel(\"epochs\", fontsize=16)\n",
    "ax.set_ylabel(\"test accuracy\", fontsize=16)\n",
    "plt.show()"
   ]
  },
  {
   "cell_type": "markdown",
   "metadata": {
    "deletable": false,
    "editable": false,
    "nbgrader": {
     "cell_type": "markdown",
     "checksum": "8430613a9662cf1e30b47dfe34276ba6",
     "grade": false,
     "grade_id": "cell-e3a64883a284043e",
     "locked": true,
     "schema_version": 3,
     "solution": false,
     "task": false
    }
   },
   "source": [
    "**Part 2 F (continued)** What is the effect of regularization term with respect to accuracy? "
   ]
  },
  {
   "cell_type": "markdown",
   "metadata": {
    "collapsed": true,
    "deletable": false,
    "nbgrader": {
     "cell_type": "markdown",
     "checksum": "8bdcea34f5386a716a6fd4f93bfa3ff9",
     "grade": true,
     "grade_id": "cell-0ce393d045320da5",
     "locked": false,
     "points": 2,
     "schema_version": 3,
     "solution": true
    }
   },
   "source": [
    "Regularization attempts to stop overfitting of the model, which is visible at earlier epochs when comparing the graphs. At earier epochs we see good fits with more stable accuracy into later epochs."
   ]
  },
  {
   "cell_type": "markdown",
   "metadata": {
    "deletable": false,
    "editable": false,
    "nbgrader": {
     "cell_type": "markdown",
     "checksum": "e8fc1936f6c84888fed1dd74b090e5aa",
     "grade": false,
     "grade_id": "cell-58303538bf6d7940",
     "locked": true,
     "schema_version": 3,
     "solution": false,
     "task": false
    }
   },
   "source": [
    "### Part 3 [5 points] \n",
    "\n",
    "Time based Learning Rate is dynamic learning rate given the following equation:\n",
    "\n",
    "$\\textrm{LearningRate} = \\eta\\, / \\,(1 + \\textrm{decay} \\cdot \\textrm{current epoch})$\n",
    "\n",
    "Train SGD with the dynamic learning rate defined above and follow these instructions:\n",
    "* Use initial learning rate $\\eta = 0.1$.\n",
    "* Use $\\textrm{decay} = 0.001$.\n",
    "* Update learning rate `lr.eta` every epoch.\n",
    "* Plot train accuracy and learning rate together for each epoch.\n",
    "\n",
    "The above can be accomplished by changing one line in `train()` from Part 2a. "
   ]
  },
  {
   "cell_type": "code",
   "execution_count": 184,
   "metadata": {
    "deletable": false,
    "nbgrader": {
     "cell_type": "code",
     "checksum": "bc9f653be2b27aad01d238d9a9c74f6e",
     "grade": true,
     "grade_id": "cell-4cc9c3502840b913",
     "locked": false,
     "points": 5,
     "schema_version": 3,
     "solution": true
    }
   },
   "outputs": [],
   "source": [
    "eta  = 1e-1\n",
    "epochs = 200\n",
    "store_epoch = 1\n",
    "\n",
    "# Lists required for plotting\n",
    "train_accuracy_array = None\n",
    "learning_rates = None\n",
    "\n",
    "train_accuracy_array, y, learning_rates = train(epochs, eta, store_epoch, lam=0, decay=.001)\n"
   ]
  },
  {
   "cell_type": "code",
   "execution_count": 185,
   "metadata": {},
   "outputs": [
    {
     "data": {
      "image/png": "[encoded data removed]",
      "text/plain": [
       "<Figure size 864x432 with 1 Axes>"
      ]
     },
     "metadata": {
      "needs_background": "light"
     },
     "output_type": "display_data"
    }
   ],
   "source": [
    "fig, ax = plt.subplots(nrows=1, ncols=1, figsize=(12,6))\n",
    "epochs_array = [i for i in range(1,epochs)]\n",
    "epochs_array.append(epochs)\n",
    "ax.plot(epochs_array, train_accuracy_array, color=\"steelblue\", label=str('train accuracy'))\n",
    "ax.plot(epochs_array, learning_rates,color=\"grey\", label=str('learning rate'))\n",
    "ax.legend(loc=\"upper right\", fontsize=16)\n",
    "ax.set_xlabel(\"epochs\", fontsize=16)\n",
    "ax.set_ylabel(\"\", fontsize=16)\n",
    "plt.show()"
   ]
  },
  {
   "cell_type": "code",
   "execution_count": null,
   "metadata": {},
   "outputs": [],
   "source": []
  }
 ],
 "metadata": {
  "kernelspec": {
   "display_name": "Python 3",
   "language": "python",
   "name": "python3"
  },
  "language_info": {
   "codemirror_mode": {
    "name": "ipython",
    "version": 3
   },
   "file_extension": ".py",
   "mimetype": "text/x-python",
   "name": "python",
   "nbconvert_exporter": "python",
   "pygments_lexer": "ipython3",
   "version": "3.8.8"
  },
  "toc": {
   "base_numbering": 1,
   "nav_menu": {},
   "number_sections": false,
   "sideBar": true,
   "skip_h1_title": true,
   "title_cell": "Table of Contents",
   "title_sidebar": "Contents",
   "toc_cell": false,
   "toc_position": {
    "height": "calc(100% - 180px)",
    "left": "10px",
    "top": "150px",
    "width": "396.188px"
   },
   "toc_section_display": true,
   "toc_window_display": true
  }
 },
 "nbformat": 4,
 "nbformat_minor": 2
}
