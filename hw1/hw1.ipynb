{
 "cells": [
  {
   "cell_type": "markdown",
   "metadata": {
    "deletable": false,
    "editable": false,
    "nbgrader": {
     "cell_type": "markdown",
     "checksum": "0bf36c2dc5aeefb3a3d34ed47116c57a",
     "grade": false,
     "grade_id": "intro",
     "locked": true,
     "schema_version": 3,
     "solution": false
    }
   },
   "source": [
    "# Homework 1: Decision tree, K-nearest neighbor, and the Bias-Variance Trade-Off\n",
    "\n",
    "\n",
    "\n",
    "This assignment is due on Moodle by **11:59pm on Friday Feb 5**.\n",
    "Your solutions to theoretical questions should be done in Markdown/MathJax directly below the associated question.\n",
    "Your solutions to computational questions should include any specified Python code and results \n",
    "as well as written commentary on your conclusions.\n",
    "Remember that you are encouraged to discuss the problems with your instructors and classmates, \n",
    "but **you must write all code and solutions on your own**. For a refresher on the course **Collaboration Policy** click [here](https://github.com/akkikiki/CSCI-4622-Machine-Learning-sp21/blob/main/info/syllabus.md#collaboration-policy).\n",
    "\n",
    "**NOTES**: \n",
    "\n",
    "- Do **NOT** load or use any Python packages that are not available in Anaconda (Version: 2019.07) with Python 3.7. \n",
    "- Some problems with code may be autograded.  If we provide a function API, **do not** change it.  If we do not provide a function API, then you're free to structure your code however you like. \n",
    "- Submit only this Jupyter notebook to Moodle.  Do not compress it using tar, rar, zip, etc. \n",
    "\n",
    "**Acknowledgment**: Noah Smith, Chris Ketelsen, Chenhao Tan"
   ]
  },
  {
   "cell_type": "markdown",
   "metadata": {},
   "source": [
    "**Please put your name and cuidentity key.**"
   ]
  },
  {
   "cell_type": "markdown",
   "metadata": {},
   "source": [
    "**Name**: Rees LaBree"
   ]
  },
  {
   "cell_type": "markdown",
   "metadata": {},
   "source": [
    "**Identity Key**: 108534100"
   ]
  },
  {
   "cell_type": "code",
   "execution_count": 96,
   "metadata": {
    "deletable": false,
    "editable": false,
    "nbgrader": {
     "cell_type": "code",
     "checksum": "ff7d53666cb767a1719373f5927a8ebe",
     "grade": false,
     "grade_id": "load",
     "locked": true,
     "schema_version": 3,
     "solution": false
    }
   },
   "outputs": [],
   "source": [
    "import math\n",
    "import pickle\n",
    "import gzip\n",
    "import numpy as np\n",
    "import matplotlib.pylab as plt\n",
    "%matplotlib inline"
   ]
  },
  {
   "cell_type": "markdown",
   "metadata": {
    "deletable": false,
    "editable": false,
    "nbgrader": {
     "cell_type": "markdown",
     "checksum": "89feaac2890b5d71a6a9ffe67a11c921",
     "grade": false,
     "grade_id": "1intro",
     "locked": true,
     "schema_version": 3,
     "solution": false
    }
   },
   "source": [
    "### [30 points] Problem 1 - Decision tree\n",
    "***\n",
    "\n",
    "Consider the problem of predicting whether a person has a college degree based on age, salary, high school GPA and Colorado residency. \n",
    "The dataset looks like the following.\n",
    "\n",
    "| Age   | Salary         | High School GPA   |Colorado Residency      | College degree| \n",
    "|:------:|:------------:| :-----------:|:-----------:|---:|\n",
    "| 27 | 41,000 | 2.5 |Yes | Yes |\n",
    "| 61 | 52,000 | 3.0 |No | No |\n",
    "| 23 | 24,000 | 2.0 |Yes | No |\n",
    "| 29 | 77,000 | 3.6 |Yes | Yes |\n",
    "| 32 | 48,000 | 2.8 |No | Yes |\n",
    "| 57 | 120,000 | 3.9 |Yes | Yes |\n",
    "| 22 | 38,000 | 2.2 |Yes | Yes |\n",
    "| 41 | 45,000 | 3.0 |Yes | No |\n",
    "| 53 | 26,000 | 2.25 |No | No |\n",
    "| 48 | 65,000 | 3.5 |Yes | Yes |\n"
   ]
  },
  {
   "cell_type": "markdown",
   "metadata": {
    "deletable": false,
    "editable": false,
    "nbgrader": {
     "cell_type": "markdown",
     "checksum": "f6d8fac06f21901f7fc07fe3546ae047",
     "grade": false,
     "grade_id": "1q",
     "locked": true,
     "schema_version": 3,
     "solution": false
    }
   },
   "source": [
    "**Part 1 [5 points]**: Convert the above table to data. Two variables should be created:\n",
    "        \n",
    "1. $x$ is a $10*4$ matrix that contains the data from columns 0, 1, 2 and 3. Colorado residency is represented by 1 (yes) and 0 (no).\n",
    "2. $y$ contains the labels (college degree), 1 (yes) and 0 (no)."
   ]
  },
  {
   "cell_type": "code",
   "execution_count": 97,
   "metadata": {
    "deletable": false,
    "nbgrader": {
     "cell_type": "code",
     "checksum": "99d49c4279d566943cb0e9e1eed98c4c",
     "grade": true,
     "grade_id": "1a",
     "locked": false,
     "points": 5,
     "schema_version": 3,
     "solution": true,
     "task": false
    }
   },
   "outputs": [],
   "source": [
    "x = np.array([27, 41000, 2.5, 1,\n",
    "    61, 52000, 3.0, 0,\n",
    "    23, 24000, 2.0, 1,\n",
    "    29, 77000, 3.6, 1,\n",
    "    32, 48000, 2.8, 0,\n",
    "    57, 120000, 3.9, 1,\n",
    "    22, 38000, 2.2, 1,\n",
    "    41, 45000, 3.0, 1,\n",
    "    53, 26000, 2.25, 0,\n",
    "    48, 65000, 3.5, 1])\n",
    "x.shape = (10,4)\n",
    "y = [1, 0, 0, 1, 1, 1, 1, 0, 0, 1]\n",
    "# raise NotImplementedError()"
   ]
  },
  {
   "cell_type": "markdown",
   "metadata": {
    "deletable": false,
    "editable": false,
    "nbgrader": {
     "cell_type": "markdown",
     "checksum": "b2941a4632161ae3fe6a2f752705c717",
     "grade": false,
     "grade_id": "2q1",
     "locked": true,
     "schema_version": 3,
     "solution": false
    }
   },
   "source": [
    "**Part 2 [16 points]:** Criteria for choosing a feature to split.\n",
    "\n",
    "**[2 points]** We start with no splitting. Assuming that our algorithm is deterministic, what is the smallest number of mistakes we can make if we do not use any of the features and what is the algorithm? (**Write your answer in the Markdown cell below.**)"
   ]
  },
  {
   "cell_type": "markdown",
   "metadata": {
    "deletable": false,
    "nbgrader": {
     "cell_type": "markdown",
     "checksum": "483fd69f569c413806fa39b054f7baea",
     "grade": true,
     "grade_id": "2a1",
     "locked": false,
     "points": 2,
     "schema_version": 3,
     "solution": true
    }
   },
   "source": [
    "Since we are not using any of the given features, the deterministic algorithm either assumes everyone has a college degree or nobody has a college degree. Since 6/10 people have a college degree the fewest mistakes you can make is 4 if your algorithm is assuming everyone has a college degree."
   ]
  },
  {
   "cell_type": "markdown",
   "metadata": {
    "deletable": false,
    "editable": false,
    "nbgrader": {
     "cell_type": "markdown",
     "checksum": "b94b7d09ef543577a8af7d44377e34e0",
     "grade": false,
     "grade_id": "2q2",
     "locked": true,
     "schema_version": 3,
     "solution": false
    }
   },
   "source": [
    "**[5 points]** We start by considering the variable *Colorado residency*. The first criteria is based on the number of mistakes. We need to build a contingency table between Colorado residency and college degree.\n",
    "\n",
    "How many mistakes will we make if we split based on Colorado residency? (**Answer below by finishing the code.**)"
   ]
  },
  {
   "cell_type": "code",
   "execution_count": 98,
   "metadata": {
    "deletable": false,
    "nbgrader": {
     "cell_type": "code",
     "checksum": "73f028fbfe827342c86ae685f4b35259",
     "grade": false,
     "grade_id": "2a2",
     "locked": false,
     "schema_version": 3,
     "solution": true
    }
   },
   "outputs": [],
   "source": [
    "def get_error_in_leaf(y, ids):\n",
    "    \"\"\"\n",
    "    Returns the errors in a leaf node of a decision tree.\n",
    "    This function can be used to answer the previous question automatically.\n",
    "    \n",
    "    :@param y: all labels\n",
    "    :@param ids: the subset of indexes in the leaf node\n",
    "    \"\"\"\n",
    "    errors = 0\n",
    "    for i in ids:\n",
    "            if(x[i][fid] != y[i]): errors += 1\n",
    "    return errors        \n",
    "    \n",
    "    # raise NotImplementedError()\n",
    "\n",
    "def error_criteria(y, root, left_child, right_child):\n",
    "    \"\"\"\n",
    "    Returns the number of errors if we split the root into the left child and the right child.\n",
    "    \n",
    "    :@param y: all labels\n",
    "    :@param root: indexes of all the data points in the root\n",
    "    :@param left_child: the subset of indexes in the left child\n",
    "    :@param right_child: the subset of indexes in the right child\n",
    "    \"\"\"\n",
    "    leftError = get_error_in_leaf(y, left_child)\n",
    "    rightError = get_error_in_leaf(y, right_child)\n",
    "    totalError = leftError + rightError\n",
    "    #print(totalError)\n",
    "    return totalError\n",
    "    \n",
    "    # raise NotImplementedError()\n",
    "\n",
    "def value_split_binary_feature(x, y, fid, root, criteria_func):\n",
    "    \n",
    "    root = root.tolist()\n",
    "    left_child = [i for i in root if x[i][fid] == 0]\n",
    "    right_child = [i for i in root if x[i][fid] == 1]\n",
    "    #print(left_child)\n",
    "    #print(right_child)\n",
    "    return criteria_func(y, root, left_child, right_child)\n",
    "\n",
    "# Colorado residency should correpsond to the third column in your data x\n",
    "fid = 3\n",
    "root = np.array(list(range(len(y)))) # root includes all data points\n",
    "mistakes = value_split_binary_feature(x, y, fid, root, error_criteria)\n",
    "#print(mistakes)"
   ]
  },
  {
   "cell_type": "code",
   "execution_count": 99,
   "metadata": {
    "deletable": false,
    "editable": false,
    "nbgrader": {
     "cell_type": "code",
     "checksum": "6be5f43afda128ee0239b2b3e9bc93ff",
     "grade": true,
     "grade_id": "cell-dd1ff1e66981cc11",
     "locked": true,
     "points": 5,
     "schema_version": 3,
     "solution": false
    }
   },
   "outputs": [],
   "source": [
    "# This cell is for grading purposes only; please ignore"
   ]
  },
  {
   "cell_type": "markdown",
   "metadata": {
    "deletable": false,
    "editable": false,
    "nbgrader": {
     "cell_type": "markdown",
     "checksum": "784e0eb1ff6781d5784c9353c7a449d2",
     "grade": false,
     "grade_id": "2a3",
     "locked": true,
     "schema_version": 3,
     "solution": false
    }
   },
   "source": [
    "**[3 points]** Alternatively, we can use information gain to split the data. To get you familiar with MathJax, please write the equation necessary to compute information gain if we split data $D$ into $D_1$ and $D_2$. **Write your answer in the Markdown cell below.**"
   ]
  },
  {
   "cell_type": "markdown",
   "metadata": {
    "deletable": false,
    "nbgrader": {
     "cell_type": "markdown",
     "checksum": "cc02ae4ac9f958fd6b8221f0f8b9e4dc",
     "grade": true,
     "grade_id": "cell-f6f2bbd3029c7b93",
     "locked": false,
     "points": 3,
     "schema_version": 3,
     "solution": true
    }
   },
   "source": [
    "$$H(X) = - \\sum_{c}^{} p_c \\log_2(p_c)$$\n",
    "$$ \\textit{IG}(X_{parent}, i) = H(X_{parent}) - \\frac{\\mid X_{i,\\textit{left}} \\mid}{\\mid X_{\\textit{parent}} \\mid} H(X_{\\textit{left}}) - \\frac{\\mid X_{i,\\textit{right}} \\mid}{\\mid X_{\\textit{parent}} \\mid} H(X_{\\textit{right}})$$"
   ]
  },
  {
   "cell_type": "markdown",
   "metadata": {
    "deletable": false,
    "editable": false,
    "nbgrader": {
     "cell_type": "markdown",
     "checksum": "275c411d60bd1c6d9e8f69a28f251b6b",
     "grade": false,
     "grade_id": "cell-b90188ff50c2eaf9",
     "locked": true,
     "schema_version": 3,
     "solution": false
    }
   },
   "source": [
    "**[6 points]** Now we write a function for computing information gain. Use log2 for entropy computation."
   ]
  },
  {
   "cell_type": "code",
   "execution_count": 100,
   "metadata": {
    "deletable": false,
    "nbgrader": {
     "cell_type": "code",
     "checksum": "a112f7e33530182c36e6fc39e8b74421",
     "grade": false,
     "grade_id": "cell-bb989c485308fcc4",
     "locked": false,
     "schema_version": 3,
     "solution": true
    }
   },
   "outputs": [
    {
     "name": "stdout",
     "output_type": "stream",
     "text": [
      "0.0912774462416801\n"
     ]
    }
   ],
   "source": [
    "def entropy(y, ids):\n",
    "    \"\"\"\n",
    "    Returns the entropy in the labels for the data points in ids.\n",
    "    \n",
    "    :@param y: all labels\n",
    "    :@param ids: the indexes of data points\n",
    "    \"\"\"\n",
    "    #print(ids)\n",
    "    \n",
    "    if len(ids) == 0: # deal with corner case when there is no data point.\n",
    "        return 0\n",
    "    \n",
    "    true = 0\n",
    "    false = 0\n",
    "    \n",
    "    for i in ids:\n",
    "        if(not y[i]): false += 1\n",
    "        else: true += 1\n",
    "    \n",
    "    if true != 0:\n",
    "        entropy_true = (true/len(ids)) * np.log2(true/len(ids))\n",
    "    else:\n",
    "        entropy_true = 0\n",
    "        \n",
    "    if false != 0:\n",
    "        entropy_false = (false/len(ids)) * np.log2(false/len(ids))\n",
    "    else:\n",
    "        entropy_false = 0\n",
    "    \n",
    "    #print(-1 * (entropy_true + entropy_false))\n",
    "    return -1 * (entropy_true + entropy_false)\n",
    "    \n",
    "    \n",
    "def information_gain_criteria(y, root, left_child, right_child):\n",
    "    \"\"\"\n",
    "    Returns the information gain by splitting root into left child and right child.\n",
    "    \n",
    "    :@param y: all labels\n",
    "    :@param root: indexes of all the data points in the root\n",
    "    :@param left_child: the subset of indexes in the left child\n",
    "    :@param right_child: the subset of indexes in the right child\n",
    "    \"\"\"\n",
    "    return entropy(y, root) - (len(left_child)/len(root))*entropy(y, left_child) - (len(right_child)/len(root))*entropy(y, right_child)\n",
    "    \n",
    "fid = 3\n",
    "root = np.array(list(range(len(y)))) # root includes all data points\n",
    "info_gain = value_split_binary_feature(x, y, fid, root, information_gain_criteria)\n",
    "print(info_gain)"
   ]
  },
  {
   "cell_type": "code",
   "execution_count": 101,
   "metadata": {
    "deletable": false,
    "editable": false,
    "nbgrader": {
     "cell_type": "code",
     "checksum": "2e69b435c5de4b7b8f56db1d1d6c5ab1",
     "grade": true,
     "grade_id": "cell-1059c1f151862da1",
     "locked": true,
     "points": 6,
     "schema_version": 3,
     "solution": false
    }
   },
   "outputs": [],
   "source": [
    "# This cell is for grading purposes only; please ignore"
   ]
  },
  {
   "cell_type": "markdown",
   "metadata": {
    "deletable": false,
    "editable": false,
    "nbgrader": {
     "cell_type": "markdown",
     "checksum": "58634997a922d2a2e61024bf255b938a",
     "grade": false,
     "grade_id": "cell-7a340274d5eccbf2",
     "locked": true,
     "schema_version": 3,
     "solution": false
    }
   },
   "source": [
    "**Part 3 [9 points]**: Deal with continuous features.\n",
    "    \n",
    "**[6 points]** One way to deal with continuous (or ordinal) data is to define binary features based on thresholding of continuous features like Age, Salary and High School GPA.\n",
    "For example, you might convert ages to 0 if age is less than or equal to 50 and 1 otherwise."
   ]
  },
  {
   "cell_type": "code",
   "execution_count": 102,
   "metadata": {
    "deletable": false,
    "nbgrader": {
     "cell_type": "code",
     "checksum": "64363b21761e99525c42238eb1d677a3",
     "grade": false,
     "grade_id": "cell-94945cb8ee7f6b14",
     "locked": false,
     "schema_version": 3,
     "solution": true
    }
   },
   "outputs": [
    {
     "name": "stdout",
     "output_type": "stream",
     "text": [
      "0.1444843438056279 57.0\n",
      "0.3219280948873623 26000.0\n",
      "0.2812908992306925 3.0\n"
     ]
    }
   ],
   "source": [
    "def value_split_continuous_feature(x, y, fid, root, criteria_func=information_gain_criteria):\n",
    "    \"\"\"\n",
    "    Return the best value and its corresponding threshold by splitting based on a continuous feature.\n",
    "\n",
    "    :@param x: all feature values\n",
    "    :@param y: all labels\n",
    "    :@param fid: feature id to split the tree based on\n",
    "    :@param root: indexes of all the data points in the root\n",
    "    :@param criteria_func: the splitting criteria function\n",
    "    \"\"\"\n",
    "    best_value, best_thres = 0, 0\n",
    "    \n",
    "    #maximum = np.amax(x[:,fid])\n",
    "    #minimm = np.amin(x[:,fid])\n",
    "    \n",
    "    lst = []\n",
    "    info_gain = 0\n",
    "    \n",
    "    \n",
    "    for i in x[:,fid]:\n",
    "        lst = []\n",
    "        for j in x[:,fid]:\n",
    "            if j<=i: lst.append(0)\n",
    "            else: lst.append(1)\n",
    "        A = np.asarray(lst)\n",
    "        A.shape = (10,1)\n",
    "        #print(A)\n",
    "        info_gain = value_split_binary_feature(A, y, 0, root, criteria_func)\n",
    "        #print(info_gain)\n",
    "        if (info_gain > best_value):\n",
    "            best_thres = i\n",
    "            best_value = info_gain\n",
    "            \n",
    "    return best_value, best_thres\n",
    "\n",
    "root = np.array(range(len(y))) # root includes all data points\n",
    "fid = 0\n",
    "age_value, age_thres = value_split_continuous_feature(x, y, fid, root, information_gain_criteria)\n",
    "fid = 1\n",
    "salary_value, salary_thres = value_split_continuous_feature(x, y, fid, root, information_gain_criteria)\n",
    "fid = 2\n",
    "gpa_value, gpa_thres = value_split_continuous_feature(x, y, fid, root, information_gain_criteria)\n",
    "\n",
    "print(age_value, age_thres)\n",
    "print(salary_value, salary_thres)\n",
    "print(gpa_value, gpa_thres)"
   ]
  },
  {
   "cell_type": "code",
   "execution_count": 103,
   "metadata": {
    "deletable": false,
    "editable": false,
    "nbgrader": {
     "cell_type": "code",
     "checksum": "159d6b7b16c6621a6966646ad965bead",
     "grade": true,
     "grade_id": "cell-b073fa94cd720ea6",
     "locked": true,
     "points": 3,
     "schema_version": 3,
     "solution": false
    }
   },
   "outputs": [],
   "source": [
    "# This cell is for grading purposes only; please ignore"
   ]
  },
  {
   "cell_type": "code",
   "execution_count": 104,
   "metadata": {
    "deletable": false,
    "editable": false,
    "nbgrader": {
     "cell_type": "code",
     "checksum": "5197fa2311bc7d4a465a5bef389435d5",
     "grade": true,
     "grade_id": "cell-4fca1b5988b02f7a",
     "locked": true,
     "points": 3,
     "schema_version": 3,
     "solution": false
    }
   },
   "outputs": [],
   "source": [
    "# This cell is for grading purposes only; please ignore"
   ]
  },
  {
   "cell_type": "code",
   "execution_count": 105,
   "metadata": {},
   "outputs": [],
   "source": [
    "# This cell is for grading purposes only; please ignore"
   ]
  },
  {
   "cell_type": "markdown",
   "metadata": {
    "deletable": false,
    "editable": false,
    "nbgrader": {
     "cell_type": "markdown",
     "checksum": "5f4f4d8807eecfd2a79176b9ad70e1bb",
     "grade": false,
     "grade_id": "cell-c7507cb413cfd74c",
     "locked": true,
     "schema_version": 3,
     "solution": false
    }
   },
   "source": [
    "**[3 points]** Based on the current information gain by splitting different features, if we build a decision stump (decision tree with depth 1) greedily, which feature should we choose? Why? **Write down your answer in the Markdown cell below.**"
   ]
  },
  {
   "cell_type": "markdown",
   "metadata": {
    "deletable": false,
    "nbgrader": {
     "cell_type": "markdown",
     "checksum": "c4202e9f4e5a2074deb181ae4002b6d3",
     "grade": true,
     "grade_id": "cell-db1dde1ecdde83ee",
     "locked": false,
     "points": 3,
     "schema_version": 3,
     "solution": true
    }
   },
   "source": [
    "Because salary has the highest information gain score between the four features, a decision stump should use salary value as its feature."
   ]
  },
  {
   "cell_type": "markdown",
   "metadata": {
    "deletable": false,
    "editable": false,
    "nbgrader": {
     "cell_type": "markdown",
     "checksum": "9e746c872c2d4569bea86e57d75a58e7",
     "grade": false,
     "grade_id": "q1-extra-credit",
     "locked": true,
     "schema_version": 3,
     "solution": false,
     "task": false
    }
   },
   "source": [
    "**Extra credit [5 points]**: You now have all the ingredients to build a decision tree recursively. You can build a decision tree of depth two and report its classification error on the training data and the tree."
   ]
  },
  {
   "cell_type": "code",
   "execution_count": 106,
   "metadata": {
    "deletable": false,
    "nbgrader": {
     "cell_type": "code",
     "checksum": "af1dff830e3ca2ac0dde968735b78ae2",
     "grade": false,
     "grade_id": "a1-extra-credit",
     "locked": false,
     "schema_version": 3,
     "solution": true,
     "task": false
    }
   },
   "outputs": [],
   "source": [
    "class LeafNode:\n",
    "    \"\"\"\n",
    "    Class for leaf nodes in the decision tree\n",
    "    \"\"\"\n",
    "    \n",
    "    def __init__(self, label, count, total):\n",
    "        \"\"\"\n",
    "        :@param label: label of the leaf node\n",
    "        :@param count: number of data points with class 'label' falling in this leaf\n",
    "        :@param count: number of datapoints of any label falling in this leaf\n",
    "        \"\"\"\n",
    "        self.label = label\n",
    "        self.count = count\n",
    "        self.total = total\n",
    "        \n",
    "    def predict(self, x):\n",
    "        \"\"\"\n",
    "        Return predictions for features x\n",
    "\n",
    "        :@param x: feature values\n",
    "        \"\"\"\n",
    "        # YOUR CODE HERE\n",
    "        raise NotImplementedError()\n",
    "    \n",
    "    def display(self, feat_names, out_str, depth=0):\n",
    "        \"\"\"\n",
    "        Display contents of a leaf node\n",
    "        \"\"\"\n",
    "        prefix = '\\t'*depth\n",
    "        error = 1.0 - self.count / float(self.total)\n",
    "        out_str += f'{prefix}leaf: label={self.label}, error={error} ({self.count}/{self.total} correct)\\n'\n",
    "        return out_str\n",
    "    \n",
    "class TreeNode:\n",
    "    \"\"\"\n",
    "    Class for internal (non-leaf) nodes in the decision tree\n",
    "    \"\"\"\n",
    "    def __init__(self, feat_id, feat_val):\n",
    "        \"\"\"\n",
    "        :@param feat_id: index of the feature that this node splits on\n",
    "        :@param feat_val: threshold for the feature that this node splits on\n",
    "        \"\"\"\n",
    "        self.feat_id = feat_id\n",
    "        self.feat_val = feat_val\n",
    "        self.left = None\n",
    "        self.right = None\n",
    "    \n",
    "    def split(self, x, root):\n",
    "        \"\"\"\n",
    "        Given the datapoints falling into current node, return two arrays of indices in x corresponding to the\n",
    "        left and right subtree\n",
    "        \n",
    "        :@param x: all feature values\n",
    "        :@param root: indexes of all the data points in the current node\n",
    "        \"\"\"\n",
    "        root = np.array(root)\n",
    "        # YOUR CODE HERE\n",
    "        raise NotImplementedError()\n",
    "    \n",
    "    def predict(self, x):\n",
    "        \"\"\"\n",
    "        Return an array of predictions for given 'x' for the current node\n",
    "        \n",
    "        :@param x: datapoints\n",
    "        \"\"\"\n",
    "        assert self.left is not None and self.right is not None, 'predict called before fit'\n",
    "        # YOUR CODE HERE\n",
    "        raise NotImplementedError()\n",
    "    \n",
    "    def display(self, feat_names, out_str, depth=0):\n",
    "        \"\"\"\n",
    "        Display contents of a non-leaf node\n",
    "        \"\"\"\n",
    "        prefix = '\\t'*depth\n",
    "        out_str += f'{prefix}{feat_names[self.feat_id]}\\n'\n",
    "        out_str += f'{prefix}x <= {self.feat_val}\\n'\n",
    "        out_str = self.left.display(feat_names, out_str, depth=depth+1)\n",
    "        out_str += f'{prefix}x > {self.feat_val}\\n'\n",
    "        out_str = self.right.display(feat_names, out_str, depth=depth+1)\n",
    "        return out_str\n",
    "\n",
    "class DecisionTree:\n",
    "    \"\"\"\n",
    "    Class for the decision tree\n",
    "    \"\"\"\n",
    "    def __init__(self, max_depth=1, criteria_func=information_gain_criteria, binary_feat_ids=[]):\n",
    "        \"\"\"\n",
    "        :@param max_depth: Maximum depth that a decision tree can take\n",
    "        :@param criteria_func: criteria function to split features\n",
    "        :@param binary_feat_id: list of indexes of binary features\n",
    "        \"\"\"\n",
    "        self.max_depth = max_depth\n",
    "        self.criteria_func = criteria_func\n",
    "        self.binary_feat_ids = binary_feat_ids\n",
    "        self.root = None\n",
    "        self.x = None\n",
    "        self.y = None\n",
    "        \n",
    "    def fit(self, x, y):\n",
    "        \"\"\"\n",
    "        Fit a tree to the given dataset using a helper function\n",
    "        \"\"\"\n",
    "        self.x = x\n",
    "        self.y = y\n",
    "        self.root = self.fit_helper(np.array(list(range(self.x.shape[0]))))\n",
    "    \n",
    "    def fit_helper(self, root, depth=1):\n",
    "        \"\"\"\n",
    "        Recursive helper function for fitting a decision tree\n",
    "        Returns a node (can be either LeafNode or TreeNode)\n",
    "        \n",
    "        :@param root: array of indices of datapoints which fall into the current node\n",
    "        :@param depth: current depth of the tree being built \n",
    "        \"\"\"\n",
    "        \n",
    "        \"\"\"\n",
    "        Strategy:\n",
    "        1. If current partition is pure i.e. labels corresponding to all indices in root are the same\n",
    "           OR the maximum depth has been reached, stop building the tree and return a LeafNode\n",
    "        2. If not, find out the best feature to split on along with the threshold, create a TreeNode and \n",
    "           recursively call fit_helper on the two splits (You can assume the threshold for a binary feature \n",
    "           to be 0.5). Finally, return the current node \n",
    "        \"\"\"\n",
    "        \n",
    "        # YOUR CODE HERE\n",
    "        raise NotImplementedError()\n",
    "    \n",
    "    def predict(self, x):\n",
    "        \"\"\"\n",
    "        Return predictions for a given dataset  \n",
    "        \"\"\"\n",
    "        assert self.root is not None, 'fit not yet called'\n",
    "        # YOUR CODE HERE\n",
    "        raise NotImplementedError()\n",
    "    \n",
    "    \n",
    "    def display(self, feat_names):\n",
    "        assert self.root is not None, 'fit not yet called'\n",
    "        out_str = \"\"\n",
    "        out_str = self.root.display(feat_names, out_str)\n",
    "        return out_str"
   ]
  },
  {
   "cell_type": "code",
   "execution_count": 107,
   "metadata": {
    "deletable": false,
    "editable": false,
    "nbgrader": {
     "cell_type": "code",
     "checksum": "22fc2d2915109be0a17a61e7b488d418",
     "grade": true,
     "grade_id": "cell-24ff429d1f9a70fc",
     "locked": true,
     "points": 5,
     "schema_version": 3,
     "solution": false,
     "task": false
    }
   },
   "outputs": [],
   "source": [
    "# This cell is for grading purposes only; please ignore\n",
    "from sklearn.tree import DecisionTreeClassifier\n",
    "from sklearn.metrics import accuracy_score\n"
   ]
  },
  {
   "cell_type": "markdown",
   "metadata": {
    "deletable": false,
    "editable": false,
    "nbgrader": {
     "cell_type": "markdown",
     "checksum": "ca9bd1ea8627f3bbb638493eb94059b5",
     "grade": false,
     "grade_id": "cell-44230b1deea50132",
     "locked": true,
     "schema_version": 3,
     "solution": false
    }
   },
   "source": [
    "### [35 points] Problem 2- KNN for Handwritten Digit Recognition \n",
    "***\n",
    "\n",
    "In this problem you'll implement a K-Nearest Neighbor framework to take an image of a handwritten digit and predict which digit it corresponds to.  \n",
    "\n",
    "![Samples of Handwritten Digits](figs/mnist.png \"MNIST Digits\")\n",
    "\n",
    "To keep run times down we'll only consider the subset of the MNIST data set consisting of the digits $3, 7, 8$ and $9$. \n",
    "\n",
    "**Part A [6 points]**: Executing the following cells will load training and validation data and plot an example handwritten digit.  Explore the training and validation sets and answer the following questions: \n",
    "\n",
    "- How many pixels are in each image in the data set?  \n",
    "- How many total examples are there in the training set? \n",
    "- How many total examples are there in the validation set? "
   ]
  },
  {
   "cell_type": "code",
   "execution_count": 108,
   "metadata": {
    "deletable": false,
    "editable": false,
    "nbgrader": {
     "cell_type": "code",
     "checksum": "f7f6f7ba21c97621ddcc7fd35fca110a",
     "grade": false,
     "grade_id": "cell-33dd48d1911a6577",
     "locked": true,
     "schema_version": 3,
     "solution": false
    }
   },
   "outputs": [],
   "source": [
    "X_train, y_train, X_valid, y_valid = pickle.load(gzip.open(\"data/mnist21x21_3789.pklz\", \"rb\"))"
   ]
  },
  {
   "cell_type": "code",
   "execution_count": 109,
   "metadata": {
    "deletable": false,
    "editable": false,
    "nbgrader": {
     "cell_type": "code",
     "checksum": "1a297399d639ff40d7083d6b4d376af0",
     "grade": false,
     "grade_id": "cell-748091ebd0ea1964",
     "locked": true,
     "schema_version": 3,
     "solution": false
    }
   },
   "outputs": [],
   "source": [
    "def view_digit(x, label=None):\n",
    "    fig = plt.figure(figsize=(3,3))\n",
    "    plt.imshow(x.reshape(21,21), cmap='gray');\n",
    "    plt.xticks([]); plt.yticks([]);\n",
    "    if label: plt.xlabel(\"true: {}\".format(label), fontsize=16)"
   ]
  },
  {
   "cell_type": "code",
   "execution_count": 110,
   "metadata": {
    "deletable": false,
    "editable": false,
    "nbgrader": {
     "cell_type": "code",
     "checksum": "04265b6573e9505a3e07f21c6bca2df6",
     "grade": false,
     "grade_id": "cell-8154afdfafb72531",
     "locked": true,
     "schema_version": 3,
     "solution": false
    }
   },
   "outputs": [
    {
     "data": {
      "image/png": "[encoded data removed]",
      "text/plain": [
       "<Figure size 216x216 with 1 Axes>"
      ]
     },
     "metadata": {},
     "output_type": "display_data"
    }
   ],
   "source": [
    "training_index = 0\n",
    "view_digit(X_train[training_index], y_train[training_index])"
   ]
  },
  {
   "cell_type": "code",
   "execution_count": 111,
   "metadata": {
    "deletable": false,
    "nbgrader": {
     "cell_type": "code",
     "checksum": "29ef65aa4dc2e80175915f8f8be2635f",
     "grade": false,
     "grade_id": "cell-50674b47f654cd5f",
     "locked": false,
     "schema_version": 3,
     "solution": true,
     "task": false
    }
   },
   "outputs": [
    {
     "name": "stdout",
     "output_type": "stream",
     "text": [
      "441\n",
      "4000\n",
      "1000\n"
     ]
    }
   ],
   "source": [
    "# Write code for answering the questions in Part A and then put your answer in the Markdown cell below.\n",
    "# Make sure to set each of the variables below to the correct value. Do not rename the variables.\n",
    "N_pixels_per_img = None\n",
    "N_training_examples = None\n",
    "N_validation_examples = None\n",
    "\n",
    "# number of pixels per image\n",
    "N_pixels_per_img = X_train[training_index].size\n",
    "print(N_pixels_per_img)\n",
    "\n",
    "# number of training examples\n",
    "N_training_examples = (len(X_train))\n",
    "print(N_training_examples)\n",
    "\n",
    "# number of validation examples\n",
    "N_validation_examples = (len(X_valid))\n",
    "print(N_validation_examples)\n",
    "\n",
    "#raise NotImplementedError()"
   ]
  },
  {
   "cell_type": "code",
   "execution_count": 112,
   "metadata": {
    "deletable": false,
    "editable": false,
    "nbgrader": {
     "cell_type": "code",
     "checksum": "1a6076e5adbfd7ae42e9ffe989ec576a",
     "grade": true,
     "grade_id": "cell-4b99d8373143f879",
     "locked": true,
     "points": 6,
     "schema_version": 3,
     "solution": false,
     "task": false
    }
   },
   "outputs": [],
   "source": [
    "# This cell is for grading purposes only; please ignore"
   ]
  },
  {
   "cell_type": "markdown",
   "metadata": {
    "deletable": false,
    "nbgrader": {
     "cell_type": "markdown",
     "checksum": "3b50c3b1db910c49ecb8650de370f042",
     "grade": true,
     "grade_id": "cell-738b21d7f854fdb0",
     "locked": false,
     "points": 0,
     "schema_version": 3,
     "solution": true
    }
   },
   "source": [
    "Num Pixels: 441, \n",
    "Num training examples: 4000, \n",
    "Num validation examples:1000"
   ]
  },
  {
   "cell_type": "code",
   "execution_count": null,
   "metadata": {
    "deletable": false,
    "nbgrader": {
     "cell_type": "code",
     "checksum": "9d713cd816b004160661de95287b6dd3",
     "grade": false,
     "grade_id": "cell-ea6def68186d971b",
     "locked": false,
     "schema_version": 3,
     "solution": true,
     "task": false
    }
   },
   "outputs": [],
   "source": [
    "#from sklearn.neighbors import BallTree\n",
    "\n",
    "class KNN:\n",
    "    \"\"\"\n",
    "    Class to store data for regression problems \n",
    "    \"\"\"\n",
    "    def __init__(self, X_train, y_train, K=5, distance_weighted=False):\n",
    "        \"\"\"\n",
    "        Creates a kNN instance\n",
    "\n",
    "        :param X_train: Training data input in 2D ndarray \n",
    "        :param y_train: Training data output in 1D ndarray \n",
    "        :param K: The number of nearest points to consider in classification\n",
    "        :param distance_weighted: Bool indicating whether to use distance weighting\n",
    "        \"\"\"\n",
    "        \n",
    "        # Import and build the BallTree on training features \n",
    "        from sklearn.neighbors import BallTree\n",
    "        self.balltree = BallTree(X_train)\n",
    "        \n",
    "        # Cache training labels and parameter K \n",
    "        self.y_train = y_train\n",
    "        self.K = K \n",
    "        \n",
    "        # Boolean flag indicating whether to do distance weighting \n",
    "        self.distance_weighted = distance_weighted\n",
    "        \n",
    "    def majority(self, neighbor_indices, neighbor_distances=None):\n",
    "        \"\"\"\n",
    "        Given indices of nearest neighbors in training set, return the majority label. \n",
    "        Break ties by considering 1 fewer neighbor until a clear winner is found. \n",
    "\n",
    "        :param neighbor_indices: The indices of the K nearest neighbors in self.X_train \n",
    "        :param neighbor_distances: Corresponding distances from query point to K nearest neighbors. \n",
    "        \"\"\"       \n",
    "        values = { }\n",
    "        \n",
    "        for i, j in enumerate(self.y_train[neighbor_indices]):\n",
    "            if not self.distance_weighted:\n",
    "                if j in values.keys():\n",
    "                    values[j] += 1\n",
    "                else:\n",
    "                    values[j] = 0\n",
    "            else:\n",
    "                if j in values.keys():\n",
    "                    values[j] += 1 / neighbor_distances[i]\n",
    "                else:\n",
    "                    values[j] = 0\n",
    "                       \n",
    "        num_max = 0\n",
    "        for i, j in values.items():\n",
    "            if j == values[max(values, key = values.get)]:\n",
    "                num_max += 1\n",
    "        \n",
    "        if num_max == 1:\n",
    "            return max(values, key = values.get)\n",
    "        else:\n",
    "            if self.distance_weighted:\n",
    "                new_indices = np.resize(neighbor_indices, neighbor_indices.size - 1)\n",
    "                new_weights = np.resize(neighbor_distances, neighbor_distances.size -1)\n",
    "                return self.majority(new_indices, new_weights)\n",
    "            else:\n",
    "                new_indices = np.resize(neighbor_indices, neighbor_indices.size - 1)\n",
    "                return self.majority(new_indices)\n",
    "                \n",
    "    def classify(self, x):\n",
    "        \"\"\"\n",
    "        Given a query point, return the predicted label \n",
    "        \n",
    "        :param x: a query point stored as an ndarray  \n",
    "        \"\"\"\n",
    "        d, i = self.balltree.query([x], self.K)\n",
    "        return self.majority(i[0], d[0])\n",
    "        \n",
    "        \n",
    "    def predict(self, X):\n",
    "        \"\"\"\n",
    "        Given an ndarray of query points, return yhat, an ndarray of predictions \n",
    "\n",
    "        :param X: an (m x p) dimension ndarray of points to predict labels for \n",
    "        \"\"\"\n",
    "        y_hat = X.shape[0] * [1]\n",
    "        for j, k in enumerate(X):\n",
    "            y_hat[j] = self.classify(k)\n",
    "        return y_hat\n",
    "    \n",
    "#knn = KNN(X_train, y_train, 5)"
   ]
  },
  {
   "cell_type": "markdown",
   "metadata": {},
   "source": [
    "**Part B [10 points]**: Modify the class above to implement an Unweighted KNN classifier.  There are three methods that you need to complete: \n",
    "\n",
    "- `predict`: Given an $m \\times p$ matrix of validation data with $m$ examples each with $p$ features, return a length-$m$ vector of predicted labels by calling the `classify` function on each example. \n",
    "- `classify`: Given a single query example with $p$ features, return its predicted class label as an integer using KNN by calling the `majority` function. \n",
    "- `majority`: Given an array of indices into the training set corresponding to the $K$ training examples that are nearest to the query point, return the majority label as an integer.  If there is a tie for the majority label using $K$ nearest neighbors, reduce $K$ by 1 and try again.  Continue reducing $K$ until there is a winning label. \n",
    "\n",
    "**Notes**: \n",
    "- Don't even think about implementing nearest-neighbor search or any distance metrics yourself.  Instead, go read the documentation for Scikit-Learn's [BallTree](http://scikit-learn.org/stable/modules/generated/sklearn.neighbors.BallTree.html) object.  You will find that its implemented [query](http://scikit-learn.org/stable/modules/generated/sklearn.neighbors.BallTree.html#sklearn.neighbors.BallTree.query) method can do most of the heavy lifting for you. \n",
    "- **Do not** use Scikit-Learn's KNeighborsClassifier in this problem.  We're implementing this ourselves. \n",
    "- You don't need to worry about the `distance_weighted` flag until **Part C**, but we recommend reading ahead a bit. It might be good to think about your implementation of **Part C** before implementing **Part B**. \n",
    "- When you think you're done, execute the following cell to run 4 unit tests based on the example starting on Slide 15 of the [KNN Lecture](https://chenhaot.com/courses/csci4622/slides/lec5.pdf)."
   ]
  },
  {
   "cell_type": "code",
   "execution_count": 120,
   "metadata": {
    "deletable": false,
    "editable": false,
    "nbgrader": {
     "cell_type": "code",
     "checksum": "5ef6933cca19f90612c0b56ad1ce7820",
     "grade": true,
     "grade_id": "cell-798d57fabb83fe1b",
     "locked": true,
     "points": 10,
     "schema_version": 3,
     "solution": false,
     "task": false
    }
   },
   "outputs": [
    {
     "name": "stderr",
     "output_type": "stream",
     "text": [
      "test1NNclassify (tests.tests.TestUnweightedKNN)\n",
      "test 1NN ... ok\n",
      "test2NNclassify (tests.tests.TestUnweightedKNN)\n",
      "test 2NN. Checks tie-breaking. ... ok\n",
      "test3NNclassify (tests.tests.TestUnweightedKNN)\n",
      "test 3NN ... ok\n",
      "test3NNpredict (tests.tests.TestUnweightedKNN)\n",
      "test 3NN prediction ... ok\n",
      "\n",
      "----------------------------------------------------------------------\n",
      "Ran 4 tests in 0.006s\n",
      "\n",
      "OK\n"
     ]
    }
   ],
   "source": [
    "from tests import tests\n",
    "tests.run_test_suite('prob 2A', KNN)"
   ]
  },
  {
   "cell_type": "markdown",
   "metadata": {
    "deletable": false,
    "editable": false,
    "nbgrader": {
     "cell_type": "markdown",
     "checksum": "59fbe61d9534db3129e87b6fd320714c",
     "grade": false,
     "grade_id": "cell-ea5a98439cad3d65",
     "locked": true,
     "schema_version": 3,
     "solution": false
    }
   },
   "source": [
    "**Part C [5 points]**: Modify the `KNN` class to perform the distance-weighted KNN classification.\n",
    "The so-called Distance-Weighted KNN classifier assigns weights to the nearest-neighbor training examples proportional to the inverse-distance from the training example to the query point.  Classification is performed by summing the weights associated with each class and predicting the class with the highest weighted-majority vote.  Mathematically we might describe the weighted-vote for a class $c$ as \n",
    "\n",
    "$$\n",
    "\\textrm{Weighted-Vote}(c) = \\displaystyle\\sum_{i \\in {\\cal N}_K} I(y_i = c) \\times \\dfrac{1}{\\|{\\bf x}_i - {\\bf x}\\|}\n",
    "$$\n",
    "\n",
    "A word of caution: it's certainly possible that a query point could be distance $0$ away from some training example.  If this happens your implementation should handle it gracefully and return the appropriate class label.   \n",
    "\n",
    "When you think you're done, execute the following cell to run three final unit tests corresponding to the example on Slide 21 of the [KNN Lecture](https://chenhaot.com/courses/csci4622/slides/lec5.pdf). Make sure that the changes you make in **Part C** do not affect the unit tests from **Part B**.   \n"
   ]
  },
  {
   "cell_type": "code",
   "execution_count": 121,
   "metadata": {
    "deletable": false,
    "editable": false,
    "nbgrader": {
     "cell_type": "code",
     "checksum": "ee661642d97a144e6c608a9f3b81d60d",
     "grade": true,
     "grade_id": "cell-3949b9f6b901e47a",
     "locked": true,
     "points": 5,
     "schema_version": 3,
     "solution": false,
     "task": false
    }
   },
   "outputs": [
    {
     "name": "stderr",
     "output_type": "stream",
     "text": [
      "test5NNclassify (tests.tests.TestWeightedKNN)\n",
      "test 5NN ... ok\n",
      "test3NNclassify (tests.tests.TestWeightedKNN)\n",
      "test 3NN. Checks divide-by-zero issue. ... ok\n",
      "test5NNpredict (tests.tests.TestWeightedKNN)\n",
      "test 5NN prediction ... ok\n",
      "\n",
      "----------------------------------------------------------------------\n",
      "Ran 3 tests in 0.006s\n",
      "\n",
      "OK\n"
     ]
    }
   ],
   "source": [
    "from tests import tests\n",
    "tests.run_test_suite('prob 2B', KNN)"
   ]
  },
  {
   "cell_type": "markdown",
   "metadata": {},
   "source": [
    "**Part D [7 points]**: Use your `KNN` class to perform weighted KNN on the validation data with $K=3$ and do the following: \n",
    "\n",
    "- **[2 points]** Create a **confusion matrix** (feel free to use the Scikit-Learn [confusion_matrix](http://scikit-learn.org/stable/modules/generated/sklearn.metrics.confusion_matrix.html) function).  \n"
   ]
  },
  {
   "cell_type": "code",
   "execution_count": 119,
   "metadata": {
    "deletable": false,
    "nbgrader": {
     "cell_type": "code",
     "checksum": "29250910d846e90518c035d8f5c5b3c8",
     "grade": true,
     "grade_id": "cell-4bdb9c57c0f418e2",
     "locked": false,
     "points": 2,
     "schema_version": 3,
     "solution": true
    }
   },
   "outputs": [
    {
     "name": "stdout",
     "output_type": "stream",
     "text": [
      "[[236   2  10   2]\n",
      " [  1 244   1   4]\n",
      " [  9   0 233   8]\n",
      " [  3   3   0 244]]\n"
     ]
    }
   ],
   "source": [
    "knn = KNN(X_train, y_train, K=3, distance_weighted=True)\n",
    "yhat_valid = knn.predict(X_valid)\n",
    "\n",
    "from sklearn.metrics import confusion_matrix\n",
    "\n",
    "C = confusion_matrix(y_valid, yhat_valid)\n",
    "\n",
    "print(C)"
   ]
  },
  {
   "cell_type": "markdown",
   "metadata": {
    "deletable": false,
    "editable": false,
    "nbgrader": {
     "cell_type": "markdown",
     "checksum": "a093ae63ff1702589cafc762fd4b85b8",
     "grade": false,
     "grade_id": "cell-2b9ba29fce61478c",
     "locked": true,
     "schema_version": 3,
     "solution": false
    }
   },
   "source": [
    "- **[2 points]** Based on your confusion matrix, which digits seem to get confused with other digits the most? "
   ]
  },
  {
   "cell_type": "markdown",
   "metadata": {
    "deletable": false,
    "nbgrader": {
     "cell_type": "markdown",
     "checksum": "1c1db39e97784b55e28384ad058367b9",
     "grade": true,
     "grade_id": "cell-796deb7245c9b7b7",
     "locked": false,
     "points": 2,
     "schema_version": 3,
     "solution": true
    }
   },
   "source": [
    "Most frequently 8's were assigned as 3's and vice versa. Occasionally, but noteably, 9's were occasionally interpreted to be 8's."
   ]
  },
  {
   "cell_type": "markdown",
   "metadata": {
    "deletable": false,
    "editable": false,
    "nbgrader": {
     "cell_type": "markdown",
     "checksum": "156105d8f73b7c4782d401c04d2f5d87",
     "grade": false,
     "grade_id": "cell-5134547bbf6d382e",
     "locked": true,
     "schema_version": 3,
     "solution": false
    }
   },
   "source": [
    "\n",
    "- **[3 points]** Find one misclassified validation example and plot it with the `view_digit` function along with plots of its three nearest neighbors in the training set. \n"
   ]
  },
  {
   "cell_type": "code",
   "execution_count": 117,
   "metadata": {
    "deletable": false,
    "nbgrader": {
     "cell_type": "code",
     "checksum": "dcebbe203ec37e8edd3b24a2334b9234",
     "grade": true,
     "grade_id": "cell-6d2dafb55f88cc7c",
     "locked": false,
     "points": 3,
     "schema_version": 3,
     "solution": true,
     "task": false
    }
   },
   "outputs": [
    {
     "data": {
      "image/png": "[encoded data removed]",
      "text/plain": [
       "<Figure size 216x216 with 1 Axes>"
      ]
     },
     "metadata": {},
     "output_type": "display_data"
    },
    {
     "data": {
      "image/png": "[encoded data removed]",
      "text/plain": [
       "<Figure size 216x216 with 1 Axes>"
      ]
     },
     "metadata": {},
     "output_type": "display_data"
    },
    {
     "data": {
      "image/png": "[encoded data removed]",
      "text/plain": [
       "<Figure size 216x216 with 1 Axes>"
      ]
     },
     "metadata": {},
     "output_type": "display_data"
    },
    {
     "data": {
      "image/png": "[encoded data removed]",
      "text/plain": [
       "<Figure size 216x216 with 1 Axes>"
      ]
     },
     "metadata": {},
     "output_type": "display_data"
    }
   ],
   "source": [
    "i=-1\n",
    "for j in yhat_valid:\n",
    "    i += 1\n",
    "    if j != y_valid[i]:\n",
    "        bad_digit_index = i\n",
    "        break\n",
    "        \n",
    "view_digit(X_valid[bad_digit_index], y_valid[bad_digit_index])\n",
    "d,i = knn.balltree.query([X_valid[bad_digit_index]],3)\n",
    "A = np.asarray(i)\n",
    "A.shape = (3)\n",
    "for p in A:\n",
    "    view_digit(X_train[p], y_train[p])"
   ]
  },
  {
   "cell_type": "markdown",
   "metadata": {},
   "source": [
    "**Part E [7 points]**: **[4 points]** Create a plot of the accuracy of both Unweighted and Distance-Weighted KNN on the validation set on the same set of axes for $K=1, 2, \\ldots, 20$ (feel free to go out to $K=30$ if your implementation is efficient enough to allow it).\n"
   ]
  },
  {
   "cell_type": "code",
   "execution_count": 118,
   "metadata": {
    "deletable": false,
    "nbgrader": {
     "cell_type": "code",
     "checksum": "be33776a08ab7f35e011a8b31a1aa0b7",
     "grade": true,
     "grade_id": "cell-173f9cb33d3db963",
     "locked": false,
     "points": 4,
     "schema_version": 3,
     "solution": true
    }
   },
   "outputs": [
    {
     "ename": "KeyboardInterrupt",
     "evalue": "",
     "output_type": "error",
     "traceback": [
      "\u001b[0;31m---------------------------------------------------------------------------\u001b[0m",
      "\u001b[0;31mKeyboardInterrupt\u001b[0m                         Traceback (most recent call last)",
      "\u001b[0;32m<ipython-input-118-661c33b5c085>\u001b[0m in \u001b[0;36m<module>\u001b[0;34m\u001b[0m\n\u001b[1;32m     17\u001b[0m \u001b[0;32mfor\u001b[0m \u001b[0mi\u001b[0m \u001b[0;32min\u001b[0m \u001b[0mallks\u001b[0m\u001b[0;34m:\u001b[0m\u001b[0;34m\u001b[0m\u001b[0;34m\u001b[0m\u001b[0m\n\u001b[1;32m     18\u001b[0m     \u001b[0mknn\u001b[0m \u001b[0;34m=\u001b[0m \u001b[0mKNN\u001b[0m\u001b[0;34m(\u001b[0m\u001b[0mX_train\u001b[0m\u001b[0;34m,\u001b[0m \u001b[0my_train\u001b[0m\u001b[0;34m,\u001b[0m \u001b[0mK\u001b[0m\u001b[0;34m=\u001b[0m\u001b[0mi\u001b[0m\u001b[0;34m,\u001b[0m \u001b[0mdistance_weighted\u001b[0m\u001b[0;34m=\u001b[0m\u001b[0;32mFalse\u001b[0m\u001b[0;34m)\u001b[0m\u001b[0;34m\u001b[0m\u001b[0;34m\u001b[0m\u001b[0m\n\u001b[0;32m---> 19\u001b[0;31m     \u001b[0myhat_valid\u001b[0m \u001b[0;34m=\u001b[0m \u001b[0mknn\u001b[0m\u001b[0;34m.\u001b[0m\u001b[0mpredict\u001b[0m\u001b[0;34m(\u001b[0m\u001b[0mX_valid\u001b[0m\u001b[0;34m)\u001b[0m\u001b[0;34m\u001b[0m\u001b[0;34m\u001b[0m\u001b[0m\n\u001b[0m\u001b[1;32m     20\u001b[0m     \u001b[0mincorrect\u001b[0m \u001b[0;34m=\u001b[0m \u001b[0;36m0\u001b[0m\u001b[0;34m\u001b[0m\u001b[0;34m\u001b[0m\u001b[0m\n\u001b[1;32m     21\u001b[0m     \u001b[0mcorrect\u001b[0m \u001b[0;34m=\u001b[0m \u001b[0;36m0\u001b[0m\u001b[0;34m\u001b[0m\u001b[0;34m\u001b[0m\u001b[0m\n",
      "\u001b[0;32m<ipython-input-113-5a764f3119d3>\u001b[0m in \u001b[0;36mpredict\u001b[0;34m(self, X)\u001b[0m\n\u001b[1;32m     84\u001b[0m         \u001b[0my_hat\u001b[0m \u001b[0;34m=\u001b[0m \u001b[0mX\u001b[0m\u001b[0;34m.\u001b[0m\u001b[0mshape\u001b[0m\u001b[0;34m[\u001b[0m\u001b[0;36m0\u001b[0m\u001b[0;34m]\u001b[0m \u001b[0;34m*\u001b[0m \u001b[0;34m[\u001b[0m\u001b[0;36m1\u001b[0m\u001b[0;34m]\u001b[0m\u001b[0;34m\u001b[0m\u001b[0;34m\u001b[0m\u001b[0m\n\u001b[1;32m     85\u001b[0m         \u001b[0;32mfor\u001b[0m \u001b[0mj\u001b[0m\u001b[0;34m,\u001b[0m \u001b[0mk\u001b[0m \u001b[0;32min\u001b[0m \u001b[0menumerate\u001b[0m\u001b[0;34m(\u001b[0m\u001b[0mX\u001b[0m\u001b[0;34m)\u001b[0m\u001b[0;34m:\u001b[0m\u001b[0;34m\u001b[0m\u001b[0;34m\u001b[0m\u001b[0m\n\u001b[0;32m---> 86\u001b[0;31m             \u001b[0my_hat\u001b[0m\u001b[0;34m[\u001b[0m\u001b[0mj\u001b[0m\u001b[0;34m]\u001b[0m \u001b[0;34m=\u001b[0m \u001b[0mself\u001b[0m\u001b[0;34m.\u001b[0m\u001b[0mclassify\u001b[0m\u001b[0;34m(\u001b[0m\u001b[0mk\u001b[0m\u001b[0;34m)\u001b[0m\u001b[0;34m\u001b[0m\u001b[0;34m\u001b[0m\u001b[0m\n\u001b[0m\u001b[1;32m     87\u001b[0m         \u001b[0;32mreturn\u001b[0m \u001b[0my_hat\u001b[0m\u001b[0;34m\u001b[0m\u001b[0;34m\u001b[0m\u001b[0m\n\u001b[1;32m     88\u001b[0m \u001b[0;34m\u001b[0m\u001b[0m\n",
      "\u001b[0;32m<ipython-input-113-5a764f3119d3>\u001b[0m in \u001b[0;36mclassify\u001b[0;34m(self, x)\u001b[0m\n\u001b[1;32m     72\u001b[0m         \u001b[0;34m:\u001b[0m\u001b[0mparam\u001b[0m \u001b[0mx\u001b[0m\u001b[0;34m:\u001b[0m \u001b[0ma\u001b[0m \u001b[0mquery\u001b[0m \u001b[0mpoint\u001b[0m \u001b[0mstored\u001b[0m \u001b[0;32mas\u001b[0m \u001b[0man\u001b[0m \u001b[0mndarray\u001b[0m\u001b[0;34m\u001b[0m\u001b[0;34m\u001b[0m\u001b[0m\n\u001b[1;32m     73\u001b[0m         \"\"\"\n\u001b[0;32m---> 74\u001b[0;31m         \u001b[0md\u001b[0m\u001b[0;34m,\u001b[0m \u001b[0mi\u001b[0m \u001b[0;34m=\u001b[0m \u001b[0mself\u001b[0m\u001b[0;34m.\u001b[0m\u001b[0mballtree\u001b[0m\u001b[0;34m.\u001b[0m\u001b[0mquery\u001b[0m\u001b[0;34m(\u001b[0m\u001b[0;34m[\u001b[0m\u001b[0mx\u001b[0m\u001b[0;34m]\u001b[0m\u001b[0;34m,\u001b[0m \u001b[0mself\u001b[0m\u001b[0;34m.\u001b[0m\u001b[0mK\u001b[0m\u001b[0;34m)\u001b[0m\u001b[0;34m\u001b[0m\u001b[0;34m\u001b[0m\u001b[0m\n\u001b[0m\u001b[1;32m     75\u001b[0m         \u001b[0;32mreturn\u001b[0m \u001b[0mself\u001b[0m\u001b[0;34m.\u001b[0m\u001b[0mmajority\u001b[0m\u001b[0;34m(\u001b[0m\u001b[0mi\u001b[0m\u001b[0;34m[\u001b[0m\u001b[0;36m0\u001b[0m\u001b[0;34m]\u001b[0m\u001b[0;34m,\u001b[0m \u001b[0md\u001b[0m\u001b[0;34m[\u001b[0m\u001b[0;36m0\u001b[0m\u001b[0;34m]\u001b[0m\u001b[0;34m)\u001b[0m\u001b[0;34m\u001b[0m\u001b[0;34m\u001b[0m\u001b[0m\n\u001b[1;32m     76\u001b[0m \u001b[0;34m\u001b[0m\u001b[0m\n",
      "\u001b[0;31mKeyboardInterrupt\u001b[0m: "
     ]
    }
   ],
   "source": [
    "acc = []\n",
    "wacc = []\n",
    "allks = range(1, 21)\n",
    "\n",
    "for i in allks:\n",
    "    knn = KNN(X_train, y_train, K=i, distance_weighted=True)\n",
    "    yhat_valid = knn.predict(X_valid)\n",
    "    incorrect = 0\n",
    "    correct = 0\n",
    "    for i,j in enumerate(yhat_valid):\n",
    "        if j != y_valid[i]:\n",
    "            incorrect += 1\n",
    "        else:\n",
    "            correct += 1\n",
    "    wacc.append(correct/(correct+incorrect))\n",
    "    \n",
    "for i in allks:\n",
    "    knn = KNN(X_train, y_train, K=i, distance_weighted=False)\n",
    "    yhat_valid = knn.predict(X_valid)\n",
    "    incorrect = 0\n",
    "    correct = 0\n",
    "    for i,j in enumerate(yhat_valid):\n",
    "        if j != y_valid[i]:\n",
    "            incorrect += 1\n",
    "        else:\n",
    "            correct += 1\n",
    "    acc.append(correct/(correct+incorrect))\n",
    "\n",
    "    \n",
    "fig, ax = plt.subplots(nrows=1,ncols=1,figsize=(12, 7))\n",
    "ax.plot(allks, acc, marker=\"o\", color=\"steelblue\", lw=3, label=\"unweighted\")\n",
    "ax.plot(allks, wacc, marker=\"o\", color=\"green\", lw=3, label=\"weighted\")\n",
    "ax.set_xlabel(\"number neighbors\", fontsize=16)\n",
    "ax.set_ylabel(\"accuracy\", fontsize=16)\n",
    "ax.legend(loc=\"upper right\")\n",
    "plt.xticks(range(1, 21, 2))\n",
    "ax.grid(alpha=0.25)"
   ]
  },
  {
   "cell_type": "markdown",
   "metadata": {
    "deletable": false,
    "editable": false,
    "nbgrader": {
     "cell_type": "markdown",
     "checksum": "7ae52761146cb44f609ab681ee91ee09",
     "grade": false,
     "grade_id": "cell-fc4bc58f96c7bf69",
     "locked": true,
     "schema_version": 3,
     "solution": false
    }
   },
   "source": [
    "**[4 points]** Based on the plot, answer the following questions: \n",
    "\n",
    "- For general $K$, does Unweighted or Weighted KNN appear to perform better? \n",
    "- Which value of $K$ attains the best accuracy on the validation set? \n",
    "\n",
    "Open questions: Why do you think this is the case? How can you explain this?"
   ]
  },
  {
   "cell_type": "markdown",
   "metadata": {
    "deletable": false,
    "nbgrader": {
     "cell_type": "markdown",
     "checksum": "edde026b64374dd536303a5b9501c3e5",
     "grade": true,
     "grade_id": "cell-7ee1e188129c22ad",
     "locked": false,
     "points": 3,
     "schema_version": 3,
     "solution": true
    }
   },
   "source": [
    "Generally weighten KNN outperforms unweighted KNN, with some exceptions. Weighted KNN with 5 and 7 neighbors performs with the best accuracy. Too few neighbors will not provide enough similarities to provide accuracy on edge case images, whereas too many neighbors will provide links between too many figures on edge case images. This also makes sense that 5 and 7 would both be odd because ties would be less common."
   ]
  },
  {
   "cell_type": "markdown",
   "metadata": {
    "deletable": false,
    "editable": false,
    "nbgrader": {
     "cell_type": "markdown",
     "checksum": "6aabf1ef370badc71b291d0bba19f9e9",
     "grade": false,
     "grade_id": "3intro",
     "locked": true,
     "schema_version": 3,
     "solution": false
    }
   },
   "source": [
    "### [30 points] Problem 3 - Polynomial Regression  and the Bias-Variance Trade-Off\n",
    "***\n",
    "\n",
    "In this problem you will use polynomial regression to explore the Bias-Variance Trade-Off. Assume that our data comes from a model of the form \n",
    "\n",
    "$$Y = f(X) + \\epsilon ~~\\textrm{ where }~~ \\epsilon \\sim N(0,\\sigma^2)$$ \n",
    "\n",
    "For our experiments we'll use $f(x) = \\cos(\\pi x)$. The following functions can be used to generate data from this distribution:    "
   ]
  },
  {
   "cell_type": "code",
   "execution_count": 26,
   "metadata": {},
   "outputs": [],
   "source": [
    "def get_f(x):\n",
    "    \"\"\"\n",
    "    Returns cos(pi*x) for array of x values\n",
    "    \n",
    "    :@param x: ndarray of feature values\n",
    "    \"\"\"\n",
    "    return np.cos(np.pi * x)"
   ]
  },
  {
   "cell_type": "markdown",
   "metadata": {
    "deletable": false,
    "editable": false,
    "nbgrader": {
     "cell_type": "markdown",
     "checksum": "2af47cfa02b4ebd017c656c6a951126e",
     "grade": false,
     "grade_id": "3aq1",
     "locked": true,
     "schema_version": 3,
     "solution": false
    }
   },
   "source": [
    "**Part A [6 points]**: **[3 points]** Generate a sample of size $n=20$ for $x$-values chosen from a uniform distribution between $0$ and $1$."
   ]
  },
  {
   "cell_type": "code",
   "execution_count": 27,
   "metadata": {
    "deletable": false,
    "nbgrader": {
     "cell_type": "code",
     "checksum": "43f4a4b0a8f883bb53e60102c70d80c3",
     "grade": true,
     "grade_id": "3aa1",
     "locked": false,
     "points": 3,
     "schema_version": 3,
     "solution": true
    }
   },
   "outputs": [],
   "source": [
    "def get_y(x, sigma=1.0):\n",
    "    \"\"\"\n",
    "    Returns y values based on the data generation process.\n",
    "    Note the noise term.\n",
    "    \n",
    "    :@param x: ndarray of feature values\n",
    "    \"\"\"\n",
    "    # assuming sigma = upper bound\n",
    "    # seems kinda misleading if I am correct, since the question asks for uniform distribution between 0 and 1\n",
    "    noise = np.random.uniform(0, sigma, len(x))\n",
    "    return noise + get_f(x)\n",
    "    \n",
    "def sample(n, sigma=1.0):\n",
    "    \"\"\"Return tuples of data (x, y) that come from \n",
    "    the data generation process.\"\"\"\n",
    "    x = np.random.uniform(0, 1, size=n)\n",
    "    y = get_y(x, sigma=sigma)\n",
    "    return x, y"
   ]
  },
  {
   "cell_type": "markdown",
   "metadata": {
    "deletable": false,
    "editable": false,
    "nbgrader": {
     "cell_type": "markdown",
     "checksum": "57c5f86cd9d6bd94b429684d981817b4",
     "grade": false,
     "grade_id": "3aq2",
     "locked": true,
     "schema_version": 3,
     "solution": false
    }
   },
   "source": [
    "**[3 points]**: Make a scatter plot of the data overlayed with the curve of the true function $f(x)=\\cos(\\pi x)$. "
   ]
  },
  {
   "cell_type": "code",
   "execution_count": 29,
   "metadata": {
    "deletable": false,
    "nbgrader": {
     "cell_type": "code",
     "checksum": "46097cc5836efe696e48054f1149156f",
     "grade": true,
     "grade_id": "3aa2",
     "locked": false,
     "points": 3,
     "schema_version": 3,
     "solution": true
    }
   },
   "outputs": [
    {
     "data": {
      "text/plain": [
       "Text(0.5, 0.98, 'Random Noise Added to cos(pi*x) Overlayed with the Curve of the True Function f(x) = cos(pi*x)')"
      ]
     },
     "execution_count": 29,
     "metadata": {},
     "output_type": "execute_result"
    },
    {
     "data": {
      "image/png": "[encoded data removed]",
      "text/plain": [
       "<Figure size 504x504 with 1 Axes>"
      ]
     },
     "metadata": {
      "needs_background": "light"
     },
     "output_type": "display_data"
    }
   ],
   "source": [
    "n = 20\n",
    "x, y = sample(n, sigma=.15)\n",
    "xplot = np.linspace(0, 1, 200)\n",
    "fplot = get_f(xplot)\n",
    "fig, ax = plt.subplots(nrows=1, ncols=1, figsize=(7, 7))\n",
    "\n",
    "\n",
    "ax.plot(x,y,\"ro\")\n",
    "curve = np.arange(0,1,.001)\n",
    "ax.plot(curve, get_f(curve))\n",
    "fig.suptitle('Random Noise Added to cos(pi*x) Overlayed with the Curve of the True Function f(x) = cos(pi*x)')"
   ]
  },
  {
   "cell_type": "markdown",
   "metadata": {
    "deletable": false,
    "editable": false,
    "nbgrader": {
     "cell_type": "markdown",
     "checksum": "014253af9c8f5bcfae35444f2c638261",
     "grade": false,
     "grade_id": "3bq1",
     "locked": true,
     "schema_version": 3,
     "solution": false
    }
   },
   "source": [
    "**Part B [6 points]**: **[3 points]** Next we need to create a function that can fit a polynomial model to training data and make predictions for unseen data.  Complete the function `poly_predict` below to accomplish this.  Note that there are many ways to do this in Python.  Later this week we'll look into doing this with Scikit-Learn.  You're free to implement it using Scikit-Learn, but you might want to look into Numpy's polynomial fitting functions, [polyfit](https://docs.scipy.org/doc/numpy/reference/generated/numpy.polyfit.html) and [polyval](https://docs.scipy.org/doc/numpy/reference/generated/numpy.polyval.html).\n"
   ]
  },
  {
   "cell_type": "code",
   "execution_count": 30,
   "metadata": {
    "deletable": false,
    "nbgrader": {
     "cell_type": "code",
     "checksum": "ad18f73402f92e0d9983d4e9b899e137",
     "grade": true,
     "grade_id": "3ba1",
     "locked": false,
     "points": 3,
     "schema_version": 3,
     "solution": true
    }
   },
   "outputs": [],
   "source": [
    "def poly_predict(x_train, y_train, x_valid, deg):\n",
    "    \"\"\"\n",
    "    Function to train polynomial regression model on training data\n",
    "    and then return a vector of predictions on validation data\n",
    "    \n",
    "    :@param x_train: vector of training features\n",
    "    :@param y_train: vector of training responses\n",
    "    :@param x_valid: vector of validation features to make predictions with\n",
    "    :@param deg: degree of the polynomial model \n",
    "    \"\"\"\n",
    "    \n",
    "    coefficients = np.polyfit(x_train, y_train, deg)\n",
    "    predictions = []\n",
    "    for x in x_valid:\n",
    "        predictions.append(np.polyval(coefficients, x))\n",
    "        \n",
    "    # print(predictions)\n",
    "    \n",
    "    return np.array(predictions)"
   ]
  },
  {
   "cell_type": "markdown",
   "metadata": {
    "deletable": false,
    "editable": false,
    "nbgrader": {
     "cell_type": "markdown",
     "checksum": "a224c6c352c70260343437c56f7cae9e",
     "grade": false,
     "grade_id": "3bq2",
     "locked": true,
     "schema_version": 3,
     "solution": false
    }
   },
   "source": [
    "**[3 points]**: Demonstrate that your function is working by using it to generate a plot that include the true function $f(x)$, a scatter plot of your training data, and the curve representing your fitted model. "
   ]
  },
  {
   "cell_type": "code",
   "execution_count": 32,
   "metadata": {
    "deletable": false,
    "nbgrader": {
     "cell_type": "code",
     "checksum": "503ec83df73562672eedadc1f0dbaac0",
     "grade": true,
     "grade_id": "3ba2",
     "locked": false,
     "points": 3,
     "schema_version": 3,
     "solution": true
    }
   },
   "outputs": [
    {
     "data": {
      "text/plain": [
       "[<matplotlib.lines.Line2D at 0x7f783e89b7c0>]"
      ]
     },
     "execution_count": 32,
     "metadata": {},
     "output_type": "execute_result"
    },
    {
     "data": {
      "image/png": "[encoded data removed]",
      "text/plain": [
       "<Figure size 504x504 with 1 Axes>"
      ]
     },
     "metadata": {
      "needs_background": "light"
     },
     "output_type": "display_data"
    }
   ],
   "source": [
    "model_plot = poly_predict(x, y, xplot, 2)\n",
    "\n",
    "fig, ax = plt.subplots(nrows=1, ncols=1, figsize=(7, 7))\n",
    "\n",
    "curve = np.arange(0,1,.001)\n",
    "\n",
    "ax.plot(x, y,\"ro\")\n",
    "ax.plot(curve, get_f(curve))\n",
    "ax.plot(xplot, model_plot)"
   ]
  },
  {
   "cell_type": "markdown",
   "metadata": {
    "deletable": false,
    "editable": false,
    "nbgrader": {
     "cell_type": "markdown",
     "checksum": "2be38bffa9ff136c748268719538b59e",
     "grade": false,
     "grade_id": "3c1",
     "locked": true,
     "schema_version": 3,
     "solution": false
    }
   },
   "source": [
    "**Part C [12 points]**: Our goal now will be to make a plot of the decomposition of the expected validation MSE into it's constituent parts.  Recall that we showed in lecture that the expected test MSE can be written as \n",
    "\n",
    "$$\n",
    "\\textrm{E}\\left[\\left(y_0 - \\hat{f}(x_0) \\right)^2\\right] = \\left[~f(x_0) - \\textrm{E}[~\\hat{f}(x_0)~] \\right]^2\n",
    "+ \\textrm{E}\\left[ ~ \\textrm{E}[~\\hat{f}(x_0)]-\\hat{f}(x_0)~\\right]^2 + \\textrm{Var}(\\epsilon)\n",
    "= \\left[\\textrm{Bias}(~\\hat{f}(x_0)\\right]^2 + \\textrm{Var}(~\\hat{f}(x_0)~) + \\textrm{Var}(\\epsilon)\n",
    "$$\n",
    "\n",
    "where $x_0$ represents unseen validation data. We're going to run simulations to estimate $\\left[\\textrm{Bias}(~\\hat{f}(x_0)\\right]^2$ and $\\textrm{Var}(~\\hat{f}(x_0)~)$ for different polynomial models and then plot them against estimates of the true validation MSE. The function `bias_variance_study` below will help you do this.  You just need to fill in a few key parts.  At the end of the day, you should have a plot for each combination of the simulation parameters.  "
   ]
  },
  {
   "cell_type": "markdown",
   "metadata": {
    "deletable": false,
    "editable": false,
    "nbgrader": {
     "cell_type": "markdown",
     "checksum": "4e5f4d37ca0d563834dcb9961c13f39c",
     "grade": false,
     "grade_id": "3c2",
     "locked": true,
     "schema_version": 3,
     "solution": false
    }
   },
   "source": [
    "The $\\textrm{Bias}^2$ term is given by \n",
    "\n",
    "$$\n",
    "\\left[\\textrm{Bias}(~\\hat{f}(x_0)\\right]^2 = \\left[~f(x_0) - \\textrm{E}[~\\hat{f}(x_0)~] \\right]^2\n",
    "$$\n",
    "\n",
    "The first term inside the square,$~f(x_0)$, is simply the true function $f$ evaluated on the validation data.  The second term inside the square, $\\textrm{E}[~\\hat{f}(x_0)~]$, is the expected value of all estimated models evaluated on the validation data.  We can estimate this by sampling many many training sets, fitting models, evaluating them on many validation sets, and then taking the average. "
   ]
  },
  {
   "cell_type": "markdown",
   "metadata": {
    "deletable": false,
    "editable": false,
    "nbgrader": {
     "cell_type": "markdown",
     "checksum": "caed6c6270cd427557b33de0b8624ccf",
     "grade": false,
     "grade_id": "cell-7a6e91c11ac651f4",
     "locked": true,
     "schema_version": 3,
     "solution": false
    }
   },
   "source": [
    "The next step is to estimate the $\\textrm{Variance}$.  Let's unpack it \n",
    "\n",
    "$$\n",
    "\\textrm{E}\\left[ ~ \\hat{f}(x_0) - \\textrm{E}[~\\hat{f}(x_0)]~\\right]^2\n",
    "$$\n",
    "\n",
    "Note that $\\textrm{E}[~\\hat{f}(x_0)]$ is the `mean_model` we got from the `squared_bias` function. The other term, $\\hat{f}(x_0)$, is a model estimated on a random training set, and then evaluated on the validation set.  Since we're wrapping this whole thing in an expectation, we're going to sample many many training sets, estimate $\\hat{f}(x_0)$, and then compute the mean squared deviation between these and the `mean_model`. "
   ]
  },
  {
   "cell_type": "markdown",
   "metadata": {
    "deletable": false,
    "editable": false,
    "nbgrader": {
     "cell_type": "markdown",
     "checksum": "a857d7c1fb1b9a9fa494a2b4507f2a29",
     "grade": false,
     "grade_id": "cell-baf6ced64ca6f96d",
     "locked": true,
     "schema_version": 3,
     "solution": false,
     "task": false
    }
   },
   "source": [
    "You will add code to the function below to accomplish this. The plotting part is completed for you. Follow the instructions in the comments below to write two loops.\n",
    "\n",
    "In the first loop, you need to train models of different degrees on the training set and record their validation predictions. You also need to calculate the validation MSE of each model.\n",
    "\n",
    "In the second loop, you need to calculate for each degree the squared bias, the variance, and the mean validation MSE across all the simulations."
   ]
  },
  {
   "cell_type": "code",
   "execution_count": 92,
   "metadata": {
    "deletable": false,
    "nbgrader": {
     "cell_type": "code",
     "checksum": "b6382952dd8e226be5bfc5c461aa64d5",
     "grade": true,
     "grade_id": "cell-faed4049ca36c7ae",
     "locked": false,
     "points": 12,
     "schema_version": 3,
     "solution": true
    }
   },
   "outputs": [
    {
     "name": "stdout",
     "output_type": "stream",
     "text": [
      "Mean difference between MSE and Bias**2 + variance with sigma=0.4:  -0.9769110684402794\n"
     ]
    },
    {
     "data": {
      "image/png": "[encoded data removed]",
      "text/plain": [
       "<Figure size 1152x432 with 2 Axes>"
      ]
     },
     "metadata": {
      "needs_background": "light"
     },
     "output_type": "display_data"
    }
   ],
   "source": [
    "from sklearn.metrics import mean_squared_error \n",
    "\n",
    "def bias_variance_study(num_data, num_sims, train_frac=0.8, sigma=0.4, max_deg=10, random_state=1234):\n",
    "    '''\n",
    "    Function to run simulations and estimate the squared-bias, variance, and \n",
    "    validation error of polynomial regression models. \n",
    "    \n",
    "    :@param num_data: number of points in simulated data set \n",
    "    :@param num_sims: number of simulations to run \n",
    "    :@param train_frac: fraction of total data in training set\n",
    "    :@param sigma: standard deviation of noise in data \n",
    "    :@param max_deg: largest degree polynomial to analyze\n",
    "    :@param random_state: seed for random state, for reproducibility\n",
    "    '''\n",
    "    # Set random seed \n",
    "    np.random.seed(random_state)\n",
    "    \n",
    "    # array of polynomial degrees\n",
    "    degrees = range(1, max_deg + 1)\n",
    "    \n",
    "    # train/valid split sizes \n",
    "    num_train = int(np.ceil(train_frac * num_data))\n",
    "    num_valid = num_data - num_train\n",
    "    \n",
    "    # Generate grid of features and shuffle them \n",
    "    x_grid = np.linspace(-1, 1, num_data)\n",
    "    np.random.shuffle(x_grid)\n",
    "    \n",
    "    # Spit into training and validation sets \n",
    "    x_train = x_grid[:num_train]\n",
    "    x_valid = x_grid[num_train:]\n",
    "    \n",
    "    # Dictionaries for predictions and MSE measurements\n",
    "    # Keys are polynomial degree. Each prediction is column \n",
    "    # of nValid x num_sims array. Each mse is entry in vector\n",
    "    # of length num_sims \n",
    "    y_hat_valid = {deg: np.zeros((num_valid, num_sims)) for deg in degrees}\n",
    "    mses_valid = {deg: np.zeros(num_sims) for deg in degrees}\n",
    "    \n",
    "    # Loop over num_sims simulated data sets\n",
    "    for sim in range(num_sims):\n",
    "        \n",
    "        # Generate training and validation responses \n",
    "        y_train = get_y(x_train, sigma=sigma)\n",
    "        y_valid = get_y(x_valid, sigma=sigma)\n",
    "        \n",
    "        # Loop over polynomial degree. Use function from part B \n",
    "        # to fit to training set and predict on validation set.\n",
    "        # Store predictions those predictions in yHatValid[deg]\n",
    "        \n",
    "        for degree in degrees:\n",
    "            y_hat_valid[degree][:, sim] = poly_predict(x_train, y_train, x_valid, degree)\n",
    "            mses_valid[degree][sim] = np.mean(np.square((y_valid-y_hat_valid[degree][:,sim]))) #indexing a column into a vector entry, add mean to take the average of the column and index into vector\n",
    "            #print(mses_valid[degree][sim])\n",
    "            \n",
    "    # Loop over each polynomial degree and compute squared-bias, variance, \n",
    "    # and mean MSE on validation set.  \n",
    "    bias_squared, variance, mse_valid = np.zeros(max_deg), np.zeros(max_deg), np.zeros(max_deg) \n",
    "\n",
    "    for i, degree in enumerate(degrees):\n",
    "        variance[i] = np.mean(np.var(y_hat_valid[degree]))\n",
    "        mse_valid[i] = np.mean(mses_valid[degree])\n",
    "        bias_squared[i] = np.mean(np.square((get_f(x_valid) - np.mean(y_hat_valid[degree]))))\n",
    "         \n",
    "        \n",
    "    # Plot squared bias, variance, and validation MSE \n",
    "    fig, (ax1, ax2) = plt.subplots(nrows=1, ncols=2, figsize=(16, 6))\n",
    "    ax1.plot(degrees, bias_squared, color=\"steelblue\", lw=3, label=\"Bias**2\")\n",
    "    ax1.plot(degrees, variance, color=\"#a76c6e\", lw=3, label=\"Variance\")\n",
    "    ax1.plot(degrees, mse_valid, color=\"black\", lw=3, label=\"Valid MSE\")\n",
    "    ax1.grid(alpha=0.25)\n",
    "    ax1.set_xlabel(\"Model Complexity (Poly Degree)\", fontsize=16)\n",
    "    ax1.set_ylabel(\"Error\", fontsize=16)\n",
    "    ax1.legend(loc=\"center right\", fontsize=12)\n",
    "    ax2.plot(degrees, bias_squared + variance, color=\"#777791\", lw=3, label=\"Bias**2 + Variance\")\n",
    "    ax2.plot(degrees, mse_valid, color=\"black\", lw=3, label=\"Valid MSE\")\n",
    "    ax2.grid(alpha=0.25)\n",
    "    ax2.set_xlabel(\"Model Complexity (Poly Degree)\", fontsize=16)\n",
    "    ax2.set_ylabel(\"Error\", fontsize=16)\n",
    "    ax2.legend(loc=\"center right\", fontsize=12)\n",
    "    print(\"Mean difference between MSE and Bias**2 + variance with sigma={}: \".format(sigma), \n",
    "          np.mean(mse_valid-bias_squared-variance))\n",
    "    \n",
    "    # Return arrays of squared-Bias, variance, and MSE \n",
    "    return bias_squared, variance, mse_valid\n",
    "    \n",
    "        \n",
    "bias_squared, variance, mse_valid = bias_variance_study(30, 500, train_frac=0.80,\n",
    "                                                        sigma=0.4, max_deg=12,\n",
    "                                                        random_state=1241)"
   ]
  },
  {
   "cell_type": "markdown",
   "metadata": {
    "deletable": false,
    "nbgrader": {
     "cell_type": "code",
     "checksum": "b6382952dd8e226be5bfc5c461aa64d5",
     "grade": true,
     "grade_id": "cell-faed4049ca36c7ae",
     "locked": false,
     "points": 12,
     "schema_version": 3,
     "solution": true
    }
   },
   "source": [
    "**Part D [6 points]**: When everything is working, increase the size of the simulated data sets and the number of simulation runs for more precision in our approximation. (For example, `num_data=50`, `num_sims=5000`) Now we want to study how the standard deviation of the model noise affects our analysis. Try several values of $\\sigma$. Compare the mean differences between the validation MSE and the sum of the squared-Bias and the Variance . What do you notice?  How can you explain this result using the notions of Bias-Variance and Reducible and Irreducible error discussed in class?   "
   ]
  },
  {
   "cell_type": "code",
   "execution_count": 95,
   "metadata": {
    "deletable": false,
    "nbgrader": {
     "cell_type": "code",
     "checksum": "b6382952dd8e226be5bfc5c461aa64d5",
     "grade": true,
     "grade_id": "cell-faed4049ca36c7ae",
     "locked": false,
     "points": 12,
     "schema_version": 3,
     "solution": true
    }
   },
   "outputs": [
    {
     "name": "stdout",
     "output_type": "stream",
     "text": [
      "Mean difference between MSE and Bias**2 + variance with sigma=2:  -1.3036611907757778\n"
     ]
    },
    {
     "data": {
      "image/png": "[encoded data removed]",
      "text/plain": [
       "<Figure size 1152x432 with 2 Axes>"
      ]
     },
     "metadata": {
      "needs_background": "light"
     },
     "output_type": "display_data"
    }
   ],
   "source": [
    "bias_squared, variance, mse_valid = bias_variance_study(50, 5000, train_frac=0.80,\n",
    "                                                        sigma=2, max_deg=12,\n",
    "                                                        random_state=1241)"
   ]
  },
  {
   "cell_type": "markdown",
   "metadata": {
    "deletable": false,
    "nbgrader": {
     "cell_type": "markdown",
     "checksum": "9ac326d79eb0f869d2dc9b595de1991d",
     "grade": true,
     "grade_id": "3d-a",
     "locked": false,
     "points": 6,
     "schema_version": 3,
     "solution": true
    }
   },
   "source": [
    "As we increase the sigma, it should be more difficult to predict and hence higher error (as visible in the graph of bias^2 + variance). Since the mean squared error is related to the average of the higher error, the MSE should converge towards the middle for higher sigmas."
   ]
  },
  {
   "cell_type": "code",
   "execution_count": null,
   "metadata": {
    "deletable": false,
    "nbgrader": {
     "cell_type": "code",
     "checksum": "edea8d08e43300c244757ab46cfa010a",
     "grade": false,
     "grade_id": "cell-2a02d6fd709a8e95",
     "locked": false,
     "schema_version": 3,
     "solution": true,
     "task": false
    }
   },
   "outputs": [],
   "source": []
  },
  {
   "cell_type": "markdown",
   "metadata": {
    "deletable": false,
    "editable": false,
    "nbgrader": {
     "cell_type": "markdown",
     "checksum": "51c81055b4eb39b63e5520f8ad3ff4fd",
     "grade": false,
     "grade_id": "syllabusquiz",
     "locked": true,
     "schema_version": 3,
     "solution": false
    }
   },
   "source": [
    "### [5 points] Problem 4: Syllabus quiz\n",
    "***\n",
    "\n",
    "Please read the [syllabus](https://github.com/akkikiki/CSCI-4622-Machine-Learning-sp21/blob/main/info/syllabus.md) carefullly and finish the [Syllabus quiz](https://forms.gle/y15DwhoGFL1hC9by5). You do not need to answer anything here. The Markdown cell is only for grading convenience."
   ]
  },
  {
   "cell_type": "markdown",
   "metadata": {
    "deletable": false,
    "nbgrader": {
     "cell_type": "markdown",
     "checksum": "3d6cfe1a807ce7839a8d89c76f278223",
     "grade": true,
     "grade_id": "cell-bda8fadfb14fc199",
     "locked": false,
     "points": 5,
     "schema_version": 3,
     "solution": true
    }
   },
   "source": [
    "YOUR ANSWER HERE"
   ]
  },
  {
   "cell_type": "code",
   "execution_count": null,
   "metadata": {},
   "outputs": [],
   "source": []
  },
  {
   "cell_type": "code",
   "execution_count": null,
   "metadata": {},
   "outputs": [],
   "source": []
  }
 ],
 "metadata": {
  "kernelspec": {
   "display_name": "Python 3",
   "language": "python",
   "name": "python3"
  },
  "language_info": {
   "codemirror_mode": {
    "name": "ipython",
    "version": 3
   },
   "file_extension": ".py",
   "mimetype": "text/x-python",
   "name": "python",
   "nbconvert_exporter": "python",
   "pygments_lexer": "ipython3",
   "version": "3.8.5"
  },
  "toc": {
   "base_numbering": 1,
   "nav_menu": {},
   "number_sections": true,
   "sideBar": true,
   "skip_h1_title": false,
   "title_cell": "Table of Contents",
   "title_sidebar": "Contents",
   "toc_cell": false,
   "toc_position": {},
   "toc_section_display": true,
   "toc_window_display": false
  }
 },
 "nbformat": 4,
 "nbformat_minor": 4
}
